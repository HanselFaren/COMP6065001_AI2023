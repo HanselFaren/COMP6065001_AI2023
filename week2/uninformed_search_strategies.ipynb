{
 "cells": [
  {
   "cell_type": "markdown",
   "id": "0aef7d0b-a743-4837-8eaa-abdd3e6c4370",
   "metadata": {},
   "source": [
    "# Lecture 2 - Uninformed Search Strategies\n",
    "<hr>"
   ]
  },
  {
   "cell_type": "markdown",
   "id": "7803da5f-23a0-4d9c-9b0e-6c1d785d3138",
   "metadata": {},
   "source": [
    "### Outline\n",
    "1. Environment setup\n",
    "2. Graph Representations\n",
    "3. Breadth-First Search Algorithm\n",
    "4. Depth-First Search algorithm\n",
    "5. Djikstra's Algorithm / UCS\n",
    "6. Exercise 1\n",
    "7. Exercise 2"
   ]
  },
  {
   "cell_type": "markdown",
   "id": "7e80d86e-8e06-41bf-9598-2495f39cab25",
   "metadata": {},
   "source": [
    "## 1. Environment Setup\n",
    "\n",
    "As an environment, we will be using the local installation of Jupyter Notebook. Alternatively, you can use Google Colab, but it is more preferable to have all your code base locally for the furthe project development and not to be dependant on the Internet all the time.\n",
    "\n",
    "*Note*: If you already have the Jupyter Notebook installed, please, skip this part\n",
    "\n",
    "Basically, there are 3 way of setting up Jupyter:\n",
    "- installing *Anaconda*\n",
    "- installing *Miniconda*\n",
    "- installing *Python* and using *pip*\n",
    "\n",
    "To install Jupyter Notebook, refer to this external link https://noteable.io/jupyter-notebook/install-jupyter-notebook/ and follow the instructions there for one of the options.\n",
    "\n",
    "If everything is setup, move to the next step. Otherwise, ask for help!\n"
   ]
  },
  {
   "cell_type": "markdown",
   "id": "008a418a-0ea0-4755-9f6d-b43908ebf54e",
   "metadata": {},
   "source": [
    "## 2. Graph Representations\n",
    "\n",
    "In this section, we will build graphs (or problem's state space) using two graph representation techniques:\n",
    "- Adjacency Matrix\n",
    "- Adjacency List"
   ]
  },
  {
   "cell_type": "markdown",
   "id": "00e8fb95-04c4-400d-87a6-0cfffecf23e8",
   "metadata": {},
   "source": [
    "### Adjacency Matrix\n",
    "\n",
    "*Adjacency matrix* is a  *n* x *n* matrix of 0s and 1s where each row and column correspond to a node of the graph *G* with *n* nodes. The intersection of the row *i* and a column *j* of the adjacency matrix says whether there is an edge (1) or not (0) between the nodes *i* and *j*. \n",
    "If the graph G is weighted, then instead of 0s and 1s we can put edge weights (cost)."
   ]
  },
  {
   "cell_type": "code",
   "execution_count": 70,
   "id": "eae05345-6c07-42f3-b461-d6bdcc7e3974",
   "metadata": {},
   "outputs": [
    {
     "name": "stdout",
     "output_type": "stream",
     "text": [
      "G:  [[0, 1, 1, 0], [1, 0, 1, 1], [1, 1, 0, 0], [0, 1, 0, 0]]\n"
     ]
    }
   ],
   "source": [
    "# Adjacency Matrix for the graph G\n",
    "#       1 2 3 4\n",
    "#     -----------\n",
    "#  1 -| 0 1 1 0 |\n",
    "#  2 -| 1 0 1 1 |\n",
    "#  3 -| 1 1 0 0 |\n",
    "#  4 -| 0 1 0 0 |\n",
    "#     -----------\n",
    "\n",
    "G = [[0, 1, 1, 0],\n",
    "      [1, 0, 1, 1],\n",
    "      [1, 1, 0, 0],\n",
    "      [0, 1, 0, 0]]\n",
    "\n",
    "print(\"G: \", G)"
   ]
  },
  {
   "cell_type": "markdown",
   "id": "711c3b07-960f-4a49-b683-766b91117636",
   "metadata": {},
   "source": [
    "### Adjacency List\n",
    "\n",
    "*Adjacency List* is a list (array) of the nodes of the graph G where each node is also associated with a list of neighbouring nodes (those that have an edge with this node)."
   ]
  },
  {
   "cell_type": "code",
   "execution_count": 69,
   "id": "7022867f-6e6f-4f1c-9485-eb349df62663",
   "metadata": {},
   "outputs": [
    {
     "name": "stdout",
     "output_type": "stream",
     "text": [
      "G:  {1: [2, 3], 2: [1, 3, 4], 3: [1, 2], 4: [2]}\n"
     ]
    }
   ],
   "source": [
    "# Adjacency List for the graph G (above)\n",
    "# {\n",
    "#   1 -> [2, 3]\n",
    "#   2 -> [1, 3, 4]\n",
    "#   3 -> [1, 2]\n",
    "#   4 -> [2]\n",
    "# }\n",
    "\n",
    "G = {\n",
    "    1: [2, 3],\n",
    "    2: [1, 3, 4],\n",
    "    3: [1, 2],\n",
    "    4: [2]\n",
    "}\n",
    "\n",
    "print(\"G: \", G)"
   ]
  },
  {
   "cell_type": "markdown",
   "id": "19b9fb29-60b8-438c-8111-71c34a5259df",
   "metadata": {},
   "source": [
    "## 3. Breadth-First Search Algorithm"
   ]
  },
  {
   "cell_type": "markdown",
   "id": "33391724-34ba-4fe2-a234-c2435dc68b64",
   "metadata": {},
   "source": [
    "### BFS - version 1"
   ]
  },
  {
   "cell_type": "code",
   "execution_count": 96,
   "id": "93b0da1b-a460-4cac-9eef-75d3ada29641",
   "metadata": {},
   "outputs": [
    {
     "name": "stdout",
     "output_type": "stream",
     "text": [
      "{'S': ['A', 'B', 'C'], 'A': ['D', 'E'], 'B': ['G'], 'C': ['F'], 'D': ['H'], 'E': ['G'], 'F': ['G'], 'G': [], 'H': []}\n"
     ]
    }
   ],
   "source": [
    "G1 = {\n",
    "    \"S\": [\"A\", \"B\", \"C\"],\n",
    "    \"A\": [\"D\", \"E\"],\n",
    "    \"B\": [\"G\"],\n",
    "    \"C\": [\"F\"],\n",
    "    \"D\": [\"H\"],\n",
    "    \"E\": [\"G\"],\n",
    "    \"F\": [\"G\"],\n",
    "    \"G\": [],\n",
    "    \"H\": [],\n",
    "}\n",
    "print(G1)"
   ]
  },
  {
   "cell_type": "code",
   "execution_count": 93,
   "id": "967b26ce-201d-437c-a1f4-b255a3ce28c7",
   "metadata": {},
   "outputs": [],
   "source": [
    "# Version 1\n",
    "def bfs(G, start, target):\n",
    "    # helper data structures\n",
    "    visited = set()\n",
    "    Q = []\n",
    "    Q.append(start)\n",
    "\n",
    "    # loop untill Q is not empty\n",
    "    while (Q != []):\n",
    "        # pick the first node in queue\n",
    "        u = Q.pop(0)\n",
    " \n",
    "        # keep track of visited nodes\n",
    "        visited.add(u)\n",
    "        print(\"visited: \",u)\n",
    "\n",
    "        # check if the goal is reached\n",
    "        if u == target:\n",
    "           print(\"reached target: \", target) \n",
    "           break\n",
    "        \n",
    "        for v in G[u]:\n",
    "          if (v not in visited) and (v not in Q ): \n",
    "            Q.append(v)\n",
    "            print(\"added neighbour: \", v)\n",
    "        #print(\"Q: \", Q)"
   ]
  },
  {
   "cell_type": "code",
   "execution_count": 94,
   "id": "22389436-4daa-4340-89d5-d14a3f102ad9",
   "metadata": {},
   "outputs": [
    {
     "name": "stdout",
     "output_type": "stream",
     "text": [
      "visited:  S\n",
      "added neighbour:  A\n",
      "added neighbour:  B\n",
      "added neighbour:  C\n",
      "visited:  A\n",
      "added neighbour:  D\n",
      "added neighbour:  E\n",
      "visited:  B\n",
      "added neighbour:  G\n",
      "visited:  C\n",
      "added neighbour:  F\n",
      "visited:  D\n",
      "added neighbour:  H\n",
      "visited:  E\n",
      "visited:  G\n",
      "reached target:  G\n"
     ]
    }
   ],
   "source": [
    "# run BFS\n",
    "start = \"S\"\n",
    "target = \"G\"\n",
    "bfs(G1, start, target)"
   ]
  },
  {
   "cell_type": "markdown",
   "id": "e8b3e915-6bbf-4602-8ead-5fb685ae7814",
   "metadata": {},
   "source": [
    "### BFS - Version 2 (with backtracing and cost computation)"
   ]
  },
  {
   "cell_type": "code",
   "execution_count": 159,
   "id": "2532750b-8f05-4763-b9e8-ca4cca16d9fa",
   "metadata": {},
   "outputs": [
    {
     "name": "stdout",
     "output_type": "stream",
     "text": [
      "{'S': [('A', 5), ('B', 2), ('C', 4)], 'A': [('D', 9), ('E', 4)], 'B': [('G', 6)], 'C': [('F', 2)], 'D': [('H', 7)], 'E': [('G', 6)], 'F': [('G', 1)], 'G': [], 'H': []}\n"
     ]
    }
   ],
   "source": [
    "G2 = {\n",
    "    \"S\": [(\"A\",5), (\"B\",2), (\"C\",4)],\n",
    "    \"A\": [(\"D\",9), (\"E\",4)],\n",
    "    \"B\": [(\"G\",6)],\n",
    "    \"C\": [(\"F\",2)],\n",
    "    \"D\": [(\"H\",7)],\n",
    "    \"E\": [(\"G\",6)],\n",
    "    \"F\": [(\"G\",1)],\n",
    "    \"G\": [],\n",
    "    \"H\": [],\n",
    "}\n",
    "print(G2)"
   ]
  },
  {
   "cell_type": "code",
   "execution_count": 160,
   "id": "308fa321-1efb-4a7e-bd45-4ab563f62f19",
   "metadata": {},
   "outputs": [],
   "source": [
    "# Version 2 (with backtracing and cost computation)\n",
    "def bfs2(G, start, target):\n",
    "    # helper data structures\n",
    "    visited = set()\n",
    "    Q = []\n",
    "    Q.append( (None,start,0) )\n",
    "    trace = {}\n",
    "\n",
    "    # loop untill Q is not empty\n",
    "    while (Q != []):\n",
    "        # pick the first node in queue\n",
    "        # and keep trak of parent node\n",
    "        (p,u,c) = Q.pop(0)\n",
    "        trace[u] = (p,c)\n",
    " \n",
    "        # keep track of visited nodes\n",
    "        visited.add(u)\n",
    "        print(\"visited: \",u)\n",
    "\n",
    "        # check if the goal is reached\n",
    "        if u == target:\n",
    "           print(\"reached target: \", target) \n",
    "           #print(trace) \n",
    "           break\n",
    "        \n",
    "        for (v,c) in G[u]:\n",
    "          if (v not in visited) and ( (u,v,c) not in Q ): \n",
    "            Q.append( (u,v,c) )\n",
    "            print(\"added neighbour: \", v)\n",
    "        #print(\"Q: \", Q)\n",
    "    return trace"
   ]
  },
  {
   "cell_type": "code",
   "execution_count": 161,
   "id": "5f20bcdd-b322-4239-9bdb-ceefa9e899a4",
   "metadata": {},
   "outputs": [
    {
     "name": "stdout",
     "output_type": "stream",
     "text": [
      "visited:  S\n",
      "added neighbour:  A\n",
      "added neighbour:  B\n",
      "added neighbour:  C\n",
      "visited:  A\n",
      "added neighbour:  D\n",
      "added neighbour:  E\n",
      "visited:  B\n",
      "added neighbour:  G\n",
      "visited:  C\n",
      "added neighbour:  F\n",
      "visited:  D\n",
      "added neighbour:  H\n",
      "visited:  E\n",
      "added neighbour:  G\n",
      "visited:  G\n",
      "visited:  F\n",
      "reached target:  F\n",
      "{'S': (None, 0), 'A': ('S', 5), 'B': ('S', 2), 'C': ('S', 4), 'D': ('A', 9), 'E': ('A', 4), 'G': ('B', 6), 'F': ('C', 2)}\n",
      "---------------------\n",
      "Path: ['S', 'C', 'F']\n",
      "Cost:  6\n"
     ]
    }
   ],
   "source": [
    "# run BFS\n",
    "start = \"S\"\n",
    "target = \"F\"\n",
    "tr = bfs2(G2, start, target)\n",
    "print(tr)\n",
    "\n",
    "# recover path by backtracing\n",
    "path = []\n",
    "cost = 0\n",
    "if target in tr:\n",
    "    (p,c) = tr[target]\n",
    "    path = [target]\n",
    "    cost += c\n",
    "    while p != None:\n",
    "        path.append(p)\n",
    "        (p,c) = tr[p]\n",
    "        cost += c\n",
    "        \n",
    "print(\"---------------------\")\n",
    "print(\"Path:\", path[::-1])\n",
    "print(\"Cost: \", cost)"
   ]
  },
  {
   "cell_type": "markdown",
   "id": "04e81459-fd55-4d8d-a2e7-2af48448be37",
   "metadata": {},
   "source": [
    "## 4. Depth-First Search algorithm"
   ]
  },
  {
   "cell_type": "code",
   "execution_count": 100,
   "id": "fa3e89bc-32cd-46a2-ad22-056a08c2a21b",
   "metadata": {},
   "outputs": [
    {
     "name": "stdout",
     "output_type": "stream",
     "text": [
      "{'S': [('A', 5), ('B', 2), ('C', 4)], 'A': [('D', 9), ('E', 4)], 'B': [('G', 6)], 'C': [('F', 2)], 'D': [('H', 7)], 'E': [('G', 6)], 'F': [('G', 1)], 'G': [], 'H': []}\n"
     ]
    }
   ],
   "source": [
    "G3 = {\n",
    "    \"S\": [(\"A\",5), (\"B\",2), (\"C\",4)],\n",
    "    \"A\": [(\"D\",9), (\"E\",4)],\n",
    "    \"B\": [(\"G\",6)],\n",
    "    \"C\": [(\"F\",2)],\n",
    "    \"D\": [(\"H\",7)],\n",
    "    \"E\": [(\"G\",6)],\n",
    "    \"F\": [(\"G\",1)],\n",
    "    \"G\": [],\n",
    "    \"H\": [],\n",
    "}\n",
    "print(G3)"
   ]
  },
  {
   "cell_type": "code",
   "execution_count": 111,
   "id": "5aee5e48-5bf8-4e33-b28a-eb864455a4e0",
   "metadata": {},
   "outputs": [],
   "source": [
    "def dfs(G, start, target):\n",
    "    # helper data structures\n",
    "    visited = set()\n",
    "    Q = []\n",
    "    Q.append( (None,start,0) )\n",
    "    trace = {}\n",
    "\n",
    "    # loop untill Q is not empty\n",
    "    while (Q != []):\n",
    "        # pick the first node in queue\n",
    "        # and keep trak of parent node\n",
    "        (p,u,c) = Q.pop()\n",
    "        trace[u] = (p,c)\n",
    " \n",
    "        # keep track of visited nodes\n",
    "        visited.add(u)\n",
    "        print(\"visited: \",u)\n",
    "\n",
    "        # check if the goal is reached\n",
    "        if u == target:\n",
    "           print(\"reached target: \", target) \n",
    "           #print(trace) \n",
    "           break\n",
    "        \n",
    "        for (v,c) in G[u][::-1]:\n",
    "          if (v not in visited) and ( (u,v,c) not in Q ): \n",
    "            Q.append( (u,v,c) )\n",
    "            print(\"added neighbour: \", v)\n",
    "        #print(\"Q: \", Q)\n",
    "    return trace"
   ]
  },
  {
   "cell_type": "code",
   "execution_count": 112,
   "id": "e8a43f22-6f07-409b-87ea-83332d2f73bd",
   "metadata": {},
   "outputs": [
    {
     "name": "stdout",
     "output_type": "stream",
     "text": [
      "visited:  S\n",
      "added neighbour:  C\n",
      "added neighbour:  B\n",
      "added neighbour:  A\n",
      "visited:  A\n",
      "added neighbour:  E\n",
      "added neighbour:  D\n",
      "visited:  D\n",
      "added neighbour:  H\n",
      "visited:  H\n",
      "visited:  E\n",
      "added neighbour:  G\n",
      "visited:  G\n",
      "reached target:  G\n",
      "---------------------\n",
      "Path: ['S', 'A', 'E', 'G']\n",
      "Cost: 15\n"
     ]
    }
   ],
   "source": [
    "# run DFS\n",
    "start = \"S\"\n",
    "target = \"G\"\n",
    "tr = dfs(G3, start, target)\n",
    "\n",
    "# recover path by backtracing\n",
    "path = []\n",
    "cost = 0\n",
    "if target in tr:\n",
    "    (p,c) = tr[target]\n",
    "    path = [target]\n",
    "    cost += c\n",
    "    while p != None:\n",
    "        path.append(p)\n",
    "        (p,c) = tr[p]\n",
    "        cost += c\n",
    "\n",
    "print(\"---------------------\")\n",
    "print(\"Path:\", path[::-1])\n",
    "print(\"Cost:\", cost)"
   ]
  },
  {
   "cell_type": "markdown",
   "id": "79a47f70-44b2-48e9-8fb6-5f682cfeeeef",
   "metadata": {},
   "source": [
    "## 5. Dijkstra's Algorithm / UCS"
   ]
  },
  {
   "cell_type": "code",
   "execution_count": 150,
   "id": "118ebd3a-0a2b-478b-ac63-80d916682716",
   "metadata": {},
   "outputs": [
    {
     "name": "stdout",
     "output_type": "stream",
     "text": [
      "{'S': [('A', 5), ('B', 2), ('C', 4)], 'A': [('D', 9), ('E', 4)], 'B': [('G', 6)], 'C': [('F', 2)], 'D': [('H', 7)], 'E': [('G', 6)], 'F': [('G', 1)], 'G': [], 'H': []}\n"
     ]
    }
   ],
   "source": [
    "G3 = {\n",
    "    \"S\": [(\"A\",5), (\"B\",2), (\"C\",4)],\n",
    "    \"A\": [(\"D\",9), (\"E\",4)],\n",
    "    \"B\": [(\"G\",6)],\n",
    "    \"C\": [(\"F\",2)],\n",
    "    \"D\": [(\"H\",7)],\n",
    "    \"E\": [(\"G\",6)],\n",
    "    \"F\": [(\"G\",1)],\n",
    "    \"G\": [],\n",
    "    \"H\": [],\n",
    "}\n",
    "print(G3)"
   ]
  },
  {
   "cell_type": "code",
   "execution_count": 157,
   "id": "6449a681-0982-4d95-bf60-f7d84c9cf08d",
   "metadata": {},
   "outputs": [],
   "source": [
    "# Dijkstra's Algorithm\n",
    "# Source: https://www.geeksforgeeks.org/dijkstras-shortest-path-algorithm-greedy-algo-7/\n",
    "\n",
    "import heapq\n",
    "\n",
    "def dijkstra(G, src):\n",
    "    # priority Q\n",
    "    pq = []\n",
    "    heapq.heappush(pq, (0, src))\n",
    "\n",
    "    # array of distances from src to node\n",
    "    dist = {}\n",
    "    for node in G:\n",
    "        dist[node] = float('inf')\n",
    "    dist[src] = 0\n",
    "    \n",
    "    while pq:\n",
    "        d, u = heapq.heappop(pq)\n",
    "\n",
    "        for v, weight in G[u]:\n",
    "            # If there is shorted path to v through u.\n",
    "            if dist[v] > dist[u] + weight:\n",
    "                # Updating distance of v\n",
    "                dist[v] = dist[u] + weight\n",
    "                heapq.heappush(pq, (dist[v], v))\n",
    " \n",
    "    # Print shortest distances stored in dist[]\n",
    "    for node in G:\n",
    "        print(f\"{node} \\t\\t {dist[node]}\")"
   ]
  },
  {
   "cell_type": "code",
   "execution_count": 158,
   "id": "fe4bc8c2-1f20-4aa1-832e-731427da12b5",
   "metadata": {},
   "outputs": [
    {
     "name": "stdout",
     "output_type": "stream",
     "text": [
      "S \t\t 0\n",
      "A \t\t 5\n",
      "B \t\t 2\n",
      "C \t\t 4\n",
      "D \t\t 14\n",
      "E \t\t 9\n",
      "F \t\t 6\n",
      "G \t\t 7\n",
      "H \t\t 21\n"
     ]
    }
   ],
   "source": [
    "# run Dijkstra's algorithm\n",
    "start = \"S\"\n",
    "tr = dijkstra(G3, start)"
   ]
  },
  {
   "cell_type": "markdown",
   "id": "f0fdfb14-6e99-4e2f-90cf-71419a71f89b",
   "metadata": {},
   "source": [
    "## 6. Exercise 1"
   ]
  },
  {
   "cell_type": "markdown",
   "id": "cac234af-b95e-48b5-af3a-721464d1c5cf",
   "metadata": {},
   "source": [
    "*Exercise 1*. Apply BFS and DFS algorithms to the graph below to find the paths and costs from A to I and J (separately)."
   ]
  },
  {
   "cell_type": "code",
   "execution_count": 1,
   "id": "9b90ad6b-472b-4e1b-8c4e-17f2c68431d2",
   "metadata": {},
   "outputs": [
    {
     "name": "stdout",
     "output_type": "stream",
     "text": [
      "{'A': [('B', 3), ('C', 10)], 'B': [('D', 7), ('E', 6)], 'C': [('F', 8), ('G', 2)], 'D': [('I', 20)], 'E': [('H', 8), ('I', 7)], 'F': [], 'G': [('J', 4), ('K', 3)], 'H': [], 'I': [], 'J': [], 'K': []}\n"
     ]
    }
   ],
   "source": [
    "G_ex1 = {\n",
    "    \"A\": [(\"B\",3), (\"C\",10)],\n",
    "    \"B\": [(\"D\",7), (\"E\",6)],\n",
    "    \"C\": [(\"F\",8), (\"G\",2)],\n",
    "    \"D\": [(\"I\",20)],\n",
    "    \"E\": [(\"H\",8), (\"I\",7)],\n",
    "    \"F\": [],\n",
    "    \"G\": [(\"J\",4), (\"K\",3)],\n",
    "    \"H\": [],\n",
    "    \"I\": [],\n",
    "    \"J\": [],\n",
    "    \"K\": []\n",
    "}\n",
    "print(G_ex1)"
   ]
  },
  {
   "cell_type": "markdown",
   "id": "86052f61-5576-486e-8038-eb6f8869f3e2",
   "metadata": {},
   "source": [
    "## 7. Exercise 2"
   ]
  },
  {
   "cell_type": "markdown",
   "id": "a7e646d4-40e5-4cff-99a5-89e73d502c3f",
   "metadata": {},
   "source": [
    "*Exercise 2*. Please look at the slides for the lecture about Uninformed search strategies and try to solve the exercise 2 at the end of the slides. For that you need to represent the problem (state space) as a graph and apply BFS and DFS to find the solution for the maze."
   ]
  },
  {
   "cell_type": "code",
   "execution_count": null,
   "id": "cd02d44f-01ac-48af-8a90-31cab420534e",
   "metadata": {},
   "outputs": [],
   "source": []
  }
 ],
 "metadata": {
  "kernelspec": {
   "display_name": "Python 3 (ipykernel)",
   "language": "python",
   "name": "python3"
  },
  "language_info": {
   "codemirror_mode": {
    "name": "ipython",
    "version": 3
   },
   "file_extension": ".py",
   "mimetype": "text/x-python",
   "name": "python",
   "nbconvert_exporter": "python",
   "pygments_lexer": "ipython3",
   "version": "3.9.6"
  }
 },
 "nbformat": 4,
 "nbformat_minor": 5
}
