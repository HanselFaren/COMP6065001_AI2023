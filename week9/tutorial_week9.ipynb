{
 "cells": [
  {
   "cell_type": "markdown",
   "id": "ff76d5b2-b1ec-4cb5-bc57-b1519aeee067",
   "metadata": {},
   "source": [
    "#  Tutorial for the Week 9\n",
    "Course: Artificial Intelligence (COMP6065001)\n",
    "\n",
    "<b>Outline:</b>\n",
    "1. Deep Learning Pipeline\n",
    "2. Home assignment"
   ]
  },
  {
   "cell_type": "markdown",
   "id": "c353a9a8-21e8-4467-949b-ebbfa52a9bae",
   "metadata": {},
   "source": [
    "## 1. DL Pipeline for NLP\n",
    "\n",
    "The outline of a generic DL pipeline is as follows: \n",
    "1. Task specification\n",
    "2. Dataset acquisition\n",
    "3. Dataset preprocessing\n",
    "4. Dataset observation\n",
    "5. Feature extraction\n",
    "6. Model selection\n",
    "7. Model design\n",
    "8. Model training\n",
    "9. Model evaluation"
   ]
  },
  {
   "cell_type": "markdown",
   "id": "6045e11b-3663-4457-9db9-6b36491e2571",
   "metadata": {},
   "source": [
    "### 1. Task specification\n",
    "\n",
    "Our task is to implement a deep learning model for Indonesian news classification. <br>\n",
    "So, the input to the model will be Indonesian news stored in raw text format, <br>\n",
    "and the goal is to assign each news into five categories: 'bola', 'news', 'bisnis', 'tekno', 'otomotif'\n",
    "\n",
    "We will implement a DL model using Transformers, <br>\n",
    "in fact, we will fine-tune a pretrained BERT model\n",
    "for our task.\n",
    "\n",
    "Pretrained BERT model can be found here: \n",
    "- https://indolem.github.io/IndoBERT/\n",
    "- https://huggingface.co/indolem/indobert-base-uncased/blob/main/README.md"
   ]
  },
  {
   "cell_type": "markdown",
   "id": "5148e514-1a4b-4462-9e64-72a9d6b599e0",
   "metadata": {},
   "source": [
    "#### Import pretrained BERT Model and BERT Tokenizer"
   ]
  },
  {
   "cell_type": "code",
   "execution_count": 29,
   "id": "946310cb-4330-4c8f-96cc-46e19c44c817",
   "metadata": {},
   "outputs": [],
   "source": [
    "from transformers import AutoTokenizer, AutoModel\n",
    "\n",
    "# Download the pretrained BERT model from Hugging Face\n",
    "tokenizer = AutoTokenizer.from_pretrained(\"indolem/indobert-base-uncased\")\n",
    "bert = AutoModel.from_pretrained(\"indolem/indobert-base-uncased\", return_dict=False)\n",
    "\n",
    "# freeze all the parameters\n",
    "for param in bert.parameters():\n",
    "    param.requires_grad = False"
   ]
  },
  {
   "cell_type": "markdown",
   "id": "ef953d0f-3ec6-4661-83c6-67ed3283496e",
   "metadata": {},
   "source": [
    "### 2. Dataset acquisition\n",
    "\n",
    "The dataset of Indonesian News that we will be using is availeble via the link: <br>\n",
    "https://github.com/andreaschandra/indonesian-news.\n",
    "\n",
    "The baseline code for text classification using Multinomial Naive Bayes model <br>\n",
    "can be also find in the link above.\n",
    "\n",
    "The dataset is saved in the folder <b>data</b> inside the project folder.<br>\n",
    "There are two files <i>training.res</i> and <i>testing.res</i>."
   ]
  },
  {
   "cell_type": "markdown",
   "id": "9b019860-6301-4d91-a2d9-1534d373824e",
   "metadata": {},
   "source": [
    "### 3. Dataset preprocessing"
   ]
  },
  {
   "cell_type": "code",
   "execution_count": 82,
   "id": "7691b39f-552a-4a48-86cc-ee1b6f301f3b",
   "metadata": {},
   "outputs": [],
   "source": [
    "# Import the necessary libraries\n",
    "import glob\n",
    "import re\n",
    "import pickle\n",
    "import collections\n",
    "from tqdm import tqdm\n",
    "\n",
    "import pandas as pd\n",
    "import numpy as np\n",
    "import seaborn as sns\n",
    "\n",
    "from nltk.tokenize import word_tokenize\n",
    "\n",
    "from sklearn.feature_extraction.text import CountVectorizer\n",
    "from sklearn.naive_bayes import MultinomialNB\n",
    "from sklearn.metrics import f1_score, recall_score, precision_score, roc_auc_score, confusion_matrix\n",
    "from sklearn.model_selection import train_test_split\n",
    "from sklearn.metrics import classification_report\n",
    "\n",
    "import torch\n",
    "import torch.nn as nn\n",
    "import transformers\n",
    "from transformers import BertModel, BertTokenizerFast\n",
    "\n",
    "%matplotlib inline"
   ]
  },
  {
   "cell_type": "markdown",
   "id": "217fb817-0a82-4628-8193-239273b3077f",
   "metadata": {},
   "source": [
    "#### Load dataset"
   ]
  },
  {
   "cell_type": "code",
   "execution_count": 106,
   "id": "9ec4f022-3851-403e-a103-91f5d9bc646e",
   "metadata": {},
   "outputs": [
    {
     "name": "stdout",
     "output_type": "stream",
     "text": [
      "Files:  ['data/testing.res', 'data/training.res']\n",
      "------------------------------------------------------------\n",
      "Text:  Liputan6.com, London - Lee Dixon khawatir Arsenal tak bisa merekrut Denis Suarez secara permanen musim panas nanti. Pasalnya sejauh ini, Suarez hanya menjadi cadangan bagi The Gunners.\n",
      "\n",
      "Suarez dipinjam Arsenal dari Barcelona, Januari lalu. The Gunners juga bisa membelinya pada akhir musim nanti jika permainannya memuaskan.\n",
      "\n",
      "Namun sejauh ini Suarez tak menjadi pilihan utama di Arsenal. Manajer Unai Emery baru memberinya kesempatan bermain selama 85 menit.\n",
      "\n",
      "\"Emery mungkin tahu kualitas Suarez. Dia tahu Suarez pemain yang dibutuhkannya,\" kata Dixon seperti dilansir Evening Standard.\n",
      "\n",
      "\"Namun dari sudut pandang Suarez, dia pasti berpikir untuk apa pindah kalau tidak bermain. Jadi mungkin saja dia akan menolak Arsenal,\" katanya menambahkan.\n",
      "------------------------------------------------------------\n",
      "Category: bola\n",
      "------------------------------------------------------------\n"
     ]
    },
    {
     "data": {
      "text/html": [
       "<div>\n",
       "<style scoped>\n",
       "    .dataframe tbody tr th:only-of-type {\n",
       "        vertical-align: middle;\n",
       "    }\n",
       "\n",
       "    .dataframe tbody tr th {\n",
       "        vertical-align: top;\n",
       "    }\n",
       "\n",
       "    .dataframe thead th {\n",
       "        text-align: right;\n",
       "    }\n",
       "</style>\n",
       "<table border=\"1\" class=\"dataframe\">\n",
       "  <thead>\n",
       "    <tr style=\"text-align: right;\">\n",
       "      <th></th>\n",
       "      <th>content</th>\n",
       "      <th>label</th>\n",
       "    </tr>\n",
       "  </thead>\n",
       "  <tbody>\n",
       "    <tr>\n",
       "      <th>10</th>\n",
       "      <td>Liputan6.com, London - Bek Arsenal, Sokratis P...</td>\n",
       "      <td>bola</td>\n",
       "    </tr>\n",
       "    <tr>\n",
       "      <th>42</th>\n",
       "      <td>Liputan6.com, Jakarta - Laju Indeks Harga Saha...</td>\n",
       "      <td>bisnis</td>\n",
       "    </tr>\n",
       "    <tr>\n",
       "      <th>44</th>\n",
       "      <td>Liputan6.com, Jakarta - Para vendor meyakini p...</td>\n",
       "      <td>tekno</td>\n",
       "    </tr>\n",
       "    <tr>\n",
       "      <th>50</th>\n",
       "      <td>Liputan6.com, Jakarta - Malam di Kota Sampit, ...</td>\n",
       "      <td>news</td>\n",
       "    </tr>\n",
       "  </tbody>\n",
       "</table>\n",
       "</div>"
      ],
      "text/plain": [
       "                                              content   label\n",
       "10  Liputan6.com, London - Bek Arsenal, Sokratis P...    bola\n",
       "42  Liputan6.com, Jakarta - Laju Indeks Harga Saha...  bisnis\n",
       "44  Liputan6.com, Jakarta - Para vendor meyakini p...   tekno\n",
       "50  Liputan6.com, Jakarta - Malam di Kota Sampit, ...    news"
      ]
     },
     "execution_count": 106,
     "metadata": {},
     "output_type": "execute_result"
    }
   ],
   "source": [
    "# Data folder\n",
    "data_path = 'data/'\n",
    "files = glob.glob(data_path + '/*')\n",
    "\n",
    "# Print the files read\n",
    "print(\"Files: \", files)\n",
    "print(\"------------------------------------------------------------\")\n",
    "\n",
    "# Read train and test data\n",
    "train = pickle.load(open(files[1], 'rb'))\n",
    "test = pickle.load(open(files[0], 'rb'))\n",
    "\n",
    "# Print raw data\n",
    "print(\"Text: \", train[0][0])\n",
    "print(\"------------------------------------------------------------\")\n",
    "print(\"Category:\", train[1][0])\n",
    "print(\"------------------------------------------------------------\")\n",
    "\n",
    "# Convert data to DataFrame format\n",
    "d_train = pd.DataFrame({'content': train[0], 'label': train[1]})\n",
    "d_test = pd.DataFrame({'content': test[0], 'label': test[1]})\n",
    "\n",
    "# Print formatted data\n",
    "pd.DataFrame(d_test, index=[10,42,44,50])"
   ]
  },
  {
   "cell_type": "code",
   "execution_count": 126,
   "id": "5a6de378-1c51-4ddd-99fe-e0f8fbbe4ee9",
   "metadata": {},
   "outputs": [
    {
     "data": {
      "text/html": [
       "<div>\n",
       "<style scoped>\n",
       "    .dataframe tbody tr th:only-of-type {\n",
       "        vertical-align: middle;\n",
       "    }\n",
       "\n",
       "    .dataframe tbody tr th {\n",
       "        vertical-align: top;\n",
       "    }\n",
       "\n",
       "    .dataframe thead th {\n",
       "        text-align: right;\n",
       "    }\n",
       "</style>\n",
       "<table border=\"1\" class=\"dataframe\">\n",
       "  <thead>\n",
       "    <tr style=\"text-align: right;\">\n",
       "      <th></th>\n",
       "      <th>content</th>\n",
       "      <th>label</th>\n",
       "      <th>text</th>\n",
       "    </tr>\n",
       "  </thead>\n",
       "  <tbody>\n",
       "    <tr>\n",
       "      <th>0</th>\n",
       "      <td>Liputan6.com, London - Lee Dixon khawatir Arse...</td>\n",
       "      <td>0</td>\n",
       "      <td>london lee dixon khawatir arsenal tak bisa mer...</td>\n",
       "    </tr>\n",
       "    <tr>\n",
       "      <th>1</th>\n",
       "      <td>Liputan6.com, Jakarta - Kasus dugaan penganiay...</td>\n",
       "      <td>1</td>\n",
       "      <td>jakarta kasus dugaan penganiayaan terhadap dua...</td>\n",
       "    </tr>\n",
       "    <tr>\n",
       "      <th>2</th>\n",
       "      <td>Liputan6.com, Jakarta Menanggapi aksi eks peke...</td>\n",
       "      <td>2</td>\n",
       "      <td>jakarta menanggapi aksi eks pekerja freeport i...</td>\n",
       "    </tr>\n",
       "    <tr>\n",
       "      <th>3</th>\n",
       "      <td>Liputan6.com, Medan - Sebanyak 81 kendaraan 4x...</td>\n",
       "      <td>0</td>\n",
       "      <td>medan sebanyak kendaraan 4x4 dan motor telah t...</td>\n",
       "    </tr>\n",
       "    <tr>\n",
       "      <th>4</th>\n",
       "      <td>Liputan6.com, Jakarta Indonesia akan melawan T...</td>\n",
       "      <td>0</td>\n",
       "      <td>jakarta indonesia akan melawan thailand final ...</td>\n",
       "    </tr>\n",
       "  </tbody>\n",
       "</table>\n",
       "</div>"
      ],
      "text/plain": [
       "                                             content  label  \\\n",
       "0  Liputan6.com, London - Lee Dixon khawatir Arse...      0   \n",
       "1  Liputan6.com, Jakarta - Kasus dugaan penganiay...      1   \n",
       "2  Liputan6.com, Jakarta Menanggapi aksi eks peke...      2   \n",
       "3  Liputan6.com, Medan - Sebanyak 81 kendaraan 4x...      0   \n",
       "4  Liputan6.com, Jakarta Indonesia akan melawan T...      0   \n",
       "\n",
       "                                                text  \n",
       "0  london lee dixon khawatir arsenal tak bisa mer...  \n",
       "1  jakarta kasus dugaan penganiayaan terhadap dua...  \n",
       "2  jakarta menanggapi aksi eks pekerja freeport i...  \n",
       "3  medan sebanyak kendaraan 4x4 dan motor telah t...  \n",
       "4  jakarta indonesia akan melawan thailand final ...  "
      ]
     },
     "execution_count": 126,
     "metadata": {},
     "output_type": "execute_result"
    }
   ],
   "source": [
    "# convert labels to numbers\n",
    "d_train['label'] = d_train['label'].replace(['bola', 'news','bisnis', 'tekno', 'otomotif'],[0,1,2,3,4])\n",
    "d_test['label'] = d_test['label'].replace(['bola', 'news','bisnis', 'tekno', 'otomotif'],[0,1,2,3,4])\n",
    "d_train.head()"
   ]
  },
  {
   "cell_type": "markdown",
   "id": "1e2682a9-2124-4554-ae9e-55a4b1fbf053",
   "metadata": {},
   "source": [
    "#### Data cleaning"
   ]
  },
  {
   "cell_type": "code",
   "execution_count": 127,
   "id": "6e7a56a4-6ea4-4184-9f12-54322642a237",
   "metadata": {},
   "outputs": [],
   "source": [
    "# Function for cleaning the data:\n",
    "# - remove the short words (len < 3)\n",
    "# - remove non-alphanumeric words\n",
    "# - remove stop words (if required)\n",
    "def cleaning(text, stopword = None):\n",
    "    word_list = word_tokenize(text.lower())\n",
    "    word_list = [word for word in word_list if len(word) > 2]\n",
    "    word_list = [word for word in word_list if word.isalnum()]\n",
    "    if stopword == None:\n",
    "        text = ' '.join(word_list)\n",
    "    else:\n",
    "        word_list = [word for word in word_list if word not in stopword]\n",
    "        text = ' '.join(word_list)\n",
    "                \n",
    "    return text"
   ]
  },
  {
   "cell_type": "code",
   "execution_count": 128,
   "id": "9e0b5807-24f8-4366-91eb-a84842f751a3",
   "metadata": {},
   "outputs": [
    {
     "name": "stderr",
     "output_type": "stream",
     "text": [
      "100%|███████████████████████████████████████████████████████████████████████████████████████| 6127/6127 [00:03<00:00, 1543.99it/s]\n"
     ]
    }
   ],
   "source": [
    "for i in tqdm(range(len(d_train))):\n",
    "    d_train.loc[i, 'text'] = cleaning(d_train.loc[i, 'content'], stopword=None)"
   ]
  },
  {
   "cell_type": "code",
   "execution_count": 129,
   "id": "1441857b-8246-48ec-a725-69ec515f1cac",
   "metadata": {},
   "outputs": [
    {
     "name": "stderr",
     "output_type": "stream",
     "text": [
      "100%|███████████████████████████████████████████████████████████████████████████████████████| 2627/2627 [00:01<00:00, 1546.72it/s]\n"
     ]
    }
   ],
   "source": [
    "for i in tqdm(range(len(d_test))):\n",
    "    d_test.loc[i, 'text'] = cleaning(d_test.loc[i, 'content'], stopword=None)"
   ]
  },
  {
   "cell_type": "code",
   "execution_count": 130,
   "id": "e9f014df-969f-4639-b3b2-4a435df29054",
   "metadata": {},
   "outputs": [
    {
     "data": {
      "text/plain": [
       "'london lee dixon khawatir arsenal tak bisa merekrut denis suarez secara permanen musim panas nanti pasalnya sejauh ini suarez hanya menjadi cadangan bagi the gunners suarez dipinjam arsenal dari barcelona januari lalu the gunners juga bisa membelinya pada akhir musim nanti jika permainannya memuaskan namun sejauh ini suarez tak menjadi pilihan utama arsenal manajer unai emery baru memberinya kesempatan bermain selama menit emery mungkin tahu kualitas suarez dia tahu suarez pemain yang dibutuhkannya kata dixon seperti dilansir evening standard namun dari sudut pandang suarez dia pasti berpikir untuk apa pindah kalau tidak bermain jadi mungkin saja dia akan menolak arsenal katanya menambahkan'"
      ]
     },
     "execution_count": 130,
     "metadata": {},
     "output_type": "execute_result"
    }
   ],
   "source": [
    "d_train['text'][0]"
   ]
  },
  {
   "cell_type": "markdown",
   "id": "dcd84032-403f-49f2-961a-d63a5e73d81f",
   "metadata": {},
   "source": [
    "#### Split data into train, test, and validation sets"
   ]
  },
  {
   "cell_type": "code",
   "execution_count": 125,
   "id": "5d8adf07-1fa0-41b5-b20b-c060089971d7",
   "metadata": {},
   "outputs": [
    {
     "name": "stdout",
     "output_type": "stream",
     "text": [
      "Train:  (5514,)\n",
      "Test (2627,)\n",
      "Val: (613,)\n"
     ]
    }
   ],
   "source": [
    "train_text, val_text, train_labels, val_labels = train_test_split(d_train['text'], d_train['label'], \n",
    "                                                                    random_state=2018, \n",
    "                                                                    test_size=0.1, \n",
    "                                                                    stratify=d_train['label'])\n",
    "test_text = d_test[\"text\"]\n",
    "test_labels = d_test[\"label\"]\n",
    "\n",
    "print(\"Train: \", train_labels.shape)\n",
    "print(\"Test\", test_labels.shape)\n",
    "print(\"Val:\", val_labels.shape)"
   ]
  },
  {
   "cell_type": "markdown",
   "id": "bd288647-6090-45c2-8617-b768c00dc0ef",
   "metadata": {},
   "source": [
    "### 4. Dataset observation"
   ]
  },
  {
   "cell_type": "code",
   "execution_count": 131,
   "id": "0b2369a5-ee4e-4031-92a9-74a108d3e287",
   "metadata": {},
   "outputs": [
    {
     "data": {
      "image/png": "[encoded data removed]",
      "text/plain": [
       "<Figure size 640x480 with 1 Axes>"
      ]
     },
     "metadata": {},
     "output_type": "display_data"
    }
   ],
   "source": [
    "# Distribution of train data within the categories\n",
    "train_plot = sns.barplot(y = d_train.label.value_counts(), x = d_train.label.value_counts().index).set_title('Train label distribution')\n",
    "train_plot.get_figure().savefig('train_dist.png')"
   ]
  },
  {
   "cell_type": "code",
   "execution_count": 132,
   "id": "84b1b8e5-a964-4e19-92b7-a9a8f7256134",
   "metadata": {},
   "outputs": [
    {
     "data": {
      "image/png": "[encoded data removed]",
      "text/plain": [
       "<Figure size 640x480 with 1 Axes>"
      ]
     },
     "metadata": {},
     "output_type": "display_data"
    }
   ],
   "source": [
    "# Distribution of train data within the categories\n",
    "test_plot = sns.barplot(y = d_test.label.value_counts(), x = d_test.label.value_counts().index).set_title('Test label distribution')\n",
    "test_plot.get_figure().savefig('test_dist.png')"
   ]
  },
  {
   "cell_type": "markdown",
   "id": "caacdd6c-2c84-4419-954f-e7710795303b",
   "metadata": {},
   "source": [
    "### 5. Feature extraction"
   ]
  },
  {
   "cell_type": "markdown",
   "id": "835e771a-fd33-4056-9878-c78497cdae4c",
   "metadata": {},
   "source": [
    "#### Tokenization"
   ]
  },
  {
   "cell_type": "code",
   "execution_count": 133,
   "id": "a395c129-de56-4fa4-a3fd-a3d6864b360c",
   "metadata": {},
   "outputs": [
    {
     "name": "stdout",
     "output_type": "stream",
     "text": [
      "{'input_ids': [[3, 12082, 7544, 1545, 16969, 2064, 2037, 18, 4, 0, 0, 0, 0, 0], [3, 7727, 3307, 4167, 4088, 1759, 4443, 2494, 4270, 16864, 1542, 5926, 18, 4]], 'attention_mask': [[1, 1, 1, 1, 1, 1, 1, 1, 1, 0, 0, 0, 0, 0], [1, 1, 1, 1, 1, 1, 1, 1, 1, 1, 1, 1, 1, 1]]}\n"
     ]
    }
   ],
   "source": [
    "# convert sample data to numbers\n",
    "text = [\"Silakan diganti dengan text apa saja.\",\"Barcelona punya pengalaman buruk saat membeli pemain bertahan belia dari Brasil.\"]\n",
    "\n",
    "# encode text\n",
    "sent_id = tokenizer.batch_encode_plus(text, padding=True, return_token_type_ids=False)\n",
    "print(sent_id)"
   ]
  },
  {
   "cell_type": "code",
   "execution_count": 134,
   "id": "d0d4ccf5-6b5e-4101-99e9-817de81cb304",
   "metadata": {},
   "outputs": [],
   "source": [
    "# Maximum text (sequence) length\n",
    "# if text > max_seq_len, text will be cut\n",
    "# if text < max_seq_len, text will be paddd with blank symbol\n",
    "max_seq_len = 300\n",
    "\n",
    "# tokenize and encode sequences in the training set\n",
    "tokens_train = tokenizer.batch_encode_plus(\n",
    "    train_text.tolist(),\n",
    "    max_length = max_seq_len,\n",
    "    padding='max_length',\n",
    "    truncation=True,\n",
    "    return_token_type_ids=False\n",
    ")\n",
    "\n",
    "# tokenize and encode sequences in the validation set\n",
    "tokens_val = tokenizer.batch_encode_plus(\n",
    "    val_text.tolist(),\n",
    "    max_length = max_seq_len,\n",
    "    padding='max_length',\n",
    "    truncation=True,\n",
    "    return_token_type_ids=False\n",
    ")\n",
    "\n",
    "# tokenize and encode sequences in the test set\n",
    "tokens_test = tokenizer.batch_encode_plus(\n",
    "    test_text.tolist(),\n",
    "    max_length = max_seq_len,\n",
    "    padding='max_length',\n",
    "    truncation=True,\n",
    "    return_token_type_ids=False\n",
    ")"
   ]
  },
  {
   "cell_type": "markdown",
   "id": "12794f18-7b3b-4855-a20e-049107443ba5",
   "metadata": {},
   "source": [
    "#### Convert Integer Sequences to Tensors"
   ]
  },
  {
   "cell_type": "code",
   "execution_count": 135,
   "id": "8cbba44b-28fe-4380-8d5b-47deacf1bb95",
   "metadata": {},
   "outputs": [],
   "source": [
    "# for train set\n",
    "train_seq = torch.tensor(tokens_train['input_ids'])\n",
    "train_mask = torch.tensor(tokens_train['attention_mask'])\n",
    "train_y = torch.tensor(train_labels.tolist())\n",
    "\n",
    "# for validation set\n",
    "val_seq = torch.tensor(tokens_val['input_ids'])\n",
    "val_mask = torch.tensor(tokens_val['attention_mask'])\n",
    "val_y = torch.tensor(val_labels.tolist())\n",
    "\n",
    "# for test set\n",
    "test_seq = torch.tensor(tokens_test['input_ids'])\n",
    "test_mask = torch.tensor(tokens_test['attention_mask'])\n",
    "test_y = torch.tensor(test_labels.tolist())"
   ]
  },
  {
   "cell_type": "markdown",
   "id": "333a6dec-ef42-47db-8a31-282d3c5e67fb",
   "metadata": {},
   "source": [
    "#### Create DataLoaders"
   ]
  },
  {
   "cell_type": "code",
   "execution_count": 119,
   "id": "ff845896-00da-48c3-991c-85ca1816d097",
   "metadata": {},
   "outputs": [],
   "source": [
    "from torch.utils.data import TensorDataset, DataLoader, RandomSampler, SequentialSampler\n",
    "\n",
    "#define a batch size\n",
    "batch_size = 32\n",
    "\n",
    "### Train\n",
    "# wrap tensors\n",
    "train_data = TensorDataset(train_seq, train_mask, train_y)\n",
    "\n",
    "# sampler for sampling the data during training\n",
    "train_sampler = RandomSampler(train_data)\n",
    "\n",
    "# dataLoader for train set\n",
    "train_dataloader = DataLoader(train_data, sampler=train_sampler, batch_size=batch_size)\n",
    "\n",
    "### Val\n",
    "# wrap tensors\n",
    "val_data = TensorDataset(val_seq, val_mask, val_y)\n",
    "\n",
    "# sampler for sampling the data during training\n",
    "val_sampler = SequentialSampler(val_data)\n",
    "\n",
    "# dataLoader for validation set\n",
    "val_dataloader = DataLoader(val_data, sampler = val_sampler, batch_size=batch_size)\n",
    "\n",
    "### Test\n",
    "# wrap tensors\n",
    "test_data = TensorDataset(test_seq, test_mask, test_y)\n",
    "\n",
    "# sampler for sampling the data during training\n",
    "test_sampler = SequentialSampler(test_data)\n",
    "\n",
    "# dataLoader for validation set\n",
    "test_dataloader = DataLoader(test_data, sampler = test_sampler, batch_size=batch_size)"
   ]
  },
  {
   "cell_type": "markdown",
   "id": "3db4f53a-3d1d-4e9f-a23e-57c018ea9ae4",
   "metadata": {},
   "source": [
    "### 6. Model selection\n",
    "\n"
   ]
  },
  {
   "cell_type": "markdown",
   "id": "6068fa7b-2bc2-4d2f-9e17-a1df4db1417a",
   "metadata": {},
   "source": [
    "We will implement a Tranformer model based on pretrained BERT model. <br>\n",
    "Basically, we will add one more layer on top of the BERT model, <br>\n",
    "and use the output of this layer to classify the input into 5 categories.\n",
    "\n",
    "You can find more information about Transformers and BERT models here:\n",
    "- https://machinelearningmastery.com/the-transformer-model/\n",
    "- https://machinelearningmastery.com/a-brief-introduction-to-bert/"
   ]
  },
  {
   "cell_type": "markdown",
   "id": "95efd018-81ca-4007-8d8d-da0380588dc7",
   "metadata": {},
   "source": [
    "### 7. Model design"
   ]
  },
  {
   "cell_type": "markdown",
   "id": "15584e9b-f66a-4780-bf9a-c55fdcf2cb33",
   "metadata": {},
   "source": [
    "#### Model definition"
   ]
  },
  {
   "cell_type": "code",
   "execution_count": 120,
   "id": "4f23a27e-d888-4521-8572-1b8945e604a7",
   "metadata": {},
   "outputs": [],
   "source": [
    "class BERT_Arch(nn.Module):\n",
    "\n",
    "    def __init__(self, bert):\n",
    "      \n",
    "      super(BERT_Arch, self).__init__()\n",
    "\n",
    "      self.bert = bert \n",
    "      \n",
    "      # dropout layer\n",
    "      self.dropout = nn.Dropout(0.1)\n",
    "      \n",
    "      # relu activation function\n",
    "      self.relu =  nn.ReLU()\n",
    "\n",
    "      # dense layer 1\n",
    "      self.fc1 = nn.Linear(768,5)\n",
    "      \n",
    "      # dense layer 2 \n",
    "      # adjust the input and output numbers  \n",
    "      # self.fc2 = nn.Linear(512,5)\n",
    "\n",
    "      #softmax activation function\n",
    "      self.softmax = nn.LogSoftmax(dim=1)\n",
    "\n",
    "    #define the forward pass\n",
    "    def forward(self, sent_id, mask):\n",
    "\n",
    "      # pass the inputs to the model  \n",
    "      _, cls_hs = self.bert(sent_id, attention_mask=mask)  \n",
    "      \n",
    "      x = self.dropout(cls_hs)\n",
    "    \n",
    "      x = self.fc1(x)\n",
    "\n",
    "      x = self.relu(x)\n",
    "\n",
    "      # uncomment if you need more layers\n",
    "      # x = self.fc2(x)\n",
    "      \n",
    "      # apply softmax activation\n",
    "      x = self.softmax(x)\n",
    "\n",
    "      return x"
   ]
  },
  {
   "cell_type": "markdown",
   "id": "a4a65ade-780c-4a07-92a3-e40482ad8f44",
   "metadata": {},
   "source": [
    "#### Setup the model"
   ]
  },
  {
   "cell_type": "code",
   "execution_count": 136,
   "id": "98707184-6a66-4352-bfb3-c3726cfc8477",
   "metadata": {},
   "outputs": [
    {
     "name": "stdout",
     "output_type": "stream",
     "text": [
      "GPU not available, CPU used\n"
     ]
    }
   ],
   "source": [
    "# define device and check if there is CUDA-device\n",
    "is_cuda = torch.cuda.is_available()\n",
    "\n",
    "if is_cuda:\n",
    "    device = torch.device(\"cuda\")\n",
    "    print(\"GPU is available\")\n",
    "else:\n",
    "    device = torch.device(\"cpu\")\n",
    "    print(\"GPU not available, CPU used\")\n",
    "\n",
    "# pass the pre-trained BERT to our define architecture\n",
    "model = BERT_Arch(bert)\n",
    "\n",
    "# push the model to device (GPU/CPU)\n",
    "model = model.to(device)\n",
    "\n",
    "# define the optimizer\n",
    "optimizer = torch.optim.AdamW(model.parameters(), lr = 1e-5)"
   ]
  },
  {
   "cell_type": "markdown",
   "id": "3f520b59-0bed-4906-ac9b-ea14f67600d0",
   "metadata": {},
   "source": [
    "### 8. Model training"
   ]
  },
  {
   "cell_type": "markdown",
   "id": "4ae3c4c6-3a1b-4b19-8788-002a31717899",
   "metadata": {},
   "source": [
    "#### Loss Function"
   ]
  },
  {
   "cell_type": "code",
   "execution_count": 122,
   "id": "644b91b3-f33d-42bb-ad29-14c790c93eef",
   "metadata": {},
   "outputs": [
    {
     "name": "stdout",
     "output_type": "stream",
     "text": [
      "[0.59386107 0.60760331 0.91518672 2.12076923 9.42564103]\n"
     ]
    }
   ],
   "source": [
    "from sklearn.utils.class_weight import compute_class_weight\n",
    "\n",
    "# compute the class weights\n",
    "class_wts = compute_class_weight('balanced', classes=np.unique(train_labels), y=train_labels)\n",
    "print(class_wts)\n",
    "\n",
    "# convert class weights to tensor\n",
    "weights= torch.tensor(class_wts,dtype=torch.float)\n",
    "weights = weights.to(device)\n",
    "\n",
    "# loss function\n",
    "cross_entropy  = nn.NLLLoss(weight=weights)"
   ]
  },
  {
   "cell_type": "markdown",
   "id": "fe0b0835-d5aa-4064-b68d-491905b1343a",
   "metadata": {},
   "source": [
    "#### Training function"
   ]
  },
  {
   "cell_type": "code",
   "execution_count": 123,
   "id": "a31b3c3a-7d5e-47eb-9027-c0de87937747",
   "metadata": {},
   "outputs": [],
   "source": [
    "# function to train the model\n",
    "def train():\n",
    "  \n",
    "  model.train()\n",
    "\n",
    "  total_loss, total_accuracy = 0, 0\n",
    "  \n",
    "  # empty list to save model predictions\n",
    "  total_preds=[]\n",
    "  \n",
    "  # iterate over batches\n",
    "  for step, batch in enumerate(train_dataloader):\n",
    "    \n",
    "    # progress update after every 50 batches.\n",
    "    if step % 50 == 0 and not step == 0:\n",
    "      print('  Batch {:>5,}  of  {:>5,}.'.format(step, len(train_dataloader)))\n",
    "\n",
    "    # push the batch to gpu\n",
    "    batch = [r.to(device) for r in batch]\n",
    "      \n",
    "    sent_id, mask, labels = batch\n",
    "\n",
    "    # clear previously calculated gradients \n",
    "    model.zero_grad()   \n",
    "      \n",
    "    # get model predictions for the current batch\n",
    "    preds = model(sent_id, mask)\n",
    "\n",
    "    # compute the loss between actual and predicted values\n",
    "    loss = cross_entropy(preds, labels)\n",
    "\n",
    "    # add on to the total loss\n",
    "    total_loss = total_loss + loss.item()\n",
    "\n",
    "    # backward pass to calculate the gradients\n",
    "    loss.backward()\n",
    "\n",
    "    # clip the the gradients to 1.0. It helps in preventing the exploding gradient problem\n",
    "    torch.nn.utils.clip_grad_norm_(model.parameters(), 1.0)\n",
    "\n",
    "    # update parameters\n",
    "    optimizer.step()\n",
    "\n",
    "    # model predictions are stored on GPU. So, push it to CPU\n",
    "    preds=preds.detach().cpu().numpy()\n",
    "\n",
    "    # append the model predictions\n",
    "    total_preds.append(preds)\n",
    "\n",
    "  # compute the training loss of the epoch\n",
    "  avg_loss = total_loss / len(train_dataloader)\n",
    "  \n",
    "  # predictions are in the form of (no. of batches, size of batch, no. of classes).\n",
    "  # reshape the predictions in form of (number of samples, no. of classes)\n",
    "  total_preds  = np.concatenate(total_preds, axis=0)\n",
    "\n",
    "  #returns the loss and predictions\n",
    "  return avg_loss, total_preds"
   ]
  },
  {
   "cell_type": "markdown",
   "id": "45e6546c-05da-4e41-8c86-c1ed410318e7",
   "metadata": {},
   "source": [
    "#### Evaluation function"
   ]
  },
  {
   "cell_type": "code",
   "execution_count": 137,
   "id": "ac92dd90-95a6-4e9a-bb05-4b3b9d0af4dd",
   "metadata": {},
   "outputs": [],
   "source": [
    "# function for evaluating the model\n",
    "def evaluate(dataloader):\n",
    "  \n",
    "  print(\"\\nEvaluating...\")\n",
    "  \n",
    "  # deactivate dropout layers\n",
    "  model.eval()\n",
    "\n",
    "  total_loss, total_accuracy = 0, 0\n",
    "  \n",
    "  # empty list to save the model predictions\n",
    "  total_preds = []\n",
    "\n",
    "  # iterate over batches\n",
    "  for step,batch in enumerate(dataloader):\n",
    "    \n",
    "    # Progress update every 50 batches.\n",
    "    if step % 50 == 0 and not step == 0:\n",
    "      \n",
    "      # Calculate elapsed time in minutes.\n",
    "      # elapsed = format_time(time.time() - t0)\n",
    "            \n",
    "      # Report progress.\n",
    "      print('  Batch {:>5,}  of  {:>5,}.'.format(step, len(dataloader)))\n",
    "\n",
    "    # push the batch to gpu\n",
    "    batch = [t.to(device) for t in batch]\n",
    "\n",
    "    sent_id, mask, labels = batch\n",
    "\n",
    "    # deactivate autograd\n",
    "    with torch.no_grad():\n",
    "      \n",
    "      # model predictions\n",
    "      preds = model(sent_id, mask)\n",
    "\n",
    "      # compute the validation loss between actual and predicted values\n",
    "      loss = cross_entropy(preds,labels)\n",
    "\n",
    "      total_loss = total_loss + loss.item()\n",
    "\n",
    "      preds = preds.detach().cpu().numpy()\n",
    "\n",
    "      total_preds.append(preds)\n",
    "\n",
    "  # compute the validation loss of the epoch\n",
    "  avg_loss = total_loss / len(dataloader) \n",
    "\n",
    "  # reshape the predictions in form of (number of samples, no. of classes)\n",
    "  total_preds  = np.concatenate(total_preds, axis=0)\n",
    "\n",
    "  return avg_loss, total_preds"
   ]
  },
  {
   "cell_type": "markdown",
   "id": "c7fe7c86-0f1c-4b11-b407-18bfd9cef6f0",
   "metadata": {},
   "source": [
    "#### Start training "
   ]
  },
  {
   "cell_type": "code",
   "execution_count": 60,
   "id": "b9b26593-f63a-407b-bb60-fdd6cd3edf88",
   "metadata": {},
   "outputs": [
    {
     "name": "stdout",
     "output_type": "stream",
     "text": [
      "\n",
      " Epoch 1 / 1\n",
      "  Batch    50  of    173.\n",
      "  Batch   100  of    173.\n",
      "  Batch   150  of    173.\n",
      "\n",
      "Evaluating...\n",
      "\n",
      "Training Loss: 1.611\n",
      "Validation Loss: 1.599\n"
     ]
    }
   ],
   "source": [
    "# set initial loss to infinite\n",
    "best_valid_loss = float('inf')\n",
    "\n",
    "# empty lists to store training and validation loss of each epoch\n",
    "train_losses=[]\n",
    "valid_losses=[]\n",
    "\n",
    "# number of training epochs\n",
    "epochs = 1\n",
    "\n",
    "#for each epoch\n",
    "for epoch in range(epochs):\n",
    "     \n",
    "    print('\\n Epoch {:} / {:}'.format(epoch + 1, epochs))\n",
    "    \n",
    "    #train model\n",
    "    train_loss, _ = train()\n",
    "    \n",
    "    #evaluate model\n",
    "    valid_loss, _ = evaluate(val_dataloader)\n",
    "    \n",
    "    #save the best model\n",
    "    if valid_loss < best_valid_loss:\n",
    "        best_valid_loss = valid_loss\n",
    "        torch.save(model.state_dict(), 'saved_weights.pt')\n",
    "    \n",
    "    # append training and validation loss\n",
    "    train_losses.append(train_loss)\n",
    "    valid_losses.append(valid_loss)\n",
    "    \n",
    "    print(f'\\nTraining Loss: {train_loss:.3f}')\n",
    "    print(f'Validation Loss: {valid_loss:.3f}')"
   ]
  },
  {
   "cell_type": "markdown",
   "id": "253454a4-5068-4cbd-b35a-9cc75ba966ce",
   "metadata": {},
   "source": [
    "### 9. Model evaluation"
   ]
  },
  {
   "cell_type": "code",
   "execution_count": 138,
   "id": "b1c6f778-fd2f-4ab5-8a1a-10f5e794a923",
   "metadata": {},
   "outputs": [
    {
     "data": {
      "text/plain": [
       "<All keys matched successfully>"
      ]
     },
     "execution_count": 138,
     "metadata": {},
     "output_type": "execute_result"
    }
   ],
   "source": [
    "# load weights of the saved model\n",
    "path = 'saved_weights.pt'\n",
    "model.load_state_dict(torch.load(path), strict=False)"
   ]
  },
  {
   "cell_type": "code",
   "execution_count": 77,
   "id": "4f55bc8b-dbc0-40ca-885c-e5e4398ddbe3",
   "metadata": {},
   "outputs": [
    {
     "name": "stdout",
     "output_type": "stream",
     "text": [
      "\n",
      "Evaluating...\n",
      "  Batch    50  of     83.\n",
      "(2627, 5)\n",
      "1.594307277576033\n"
     ]
    }
   ],
   "source": [
    "avg_loss, total_preds = evaluate(test_dataloader)\n",
    "print(total_preds.shape)\n",
    "print(avg_loss)"
   ]
  },
  {
   "cell_type": "code",
   "execution_count": 139,
   "id": "31fccd8a-b371-44bd-8e8d-64ca02ad26cc",
   "metadata": {},
   "outputs": [
    {
     "name": "stdout",
     "output_type": "stream",
     "text": [
      "(2627, 5)\n",
      "              precision    recall  f1-score   support\n",
      "\n",
      "           0       0.35      0.10      0.16       923\n",
      "           1       0.00      0.00      0.00       880\n",
      "           2       0.14      0.08      0.10       542\n",
      "           3       0.07      0.41      0.13       212\n",
      "           4       0.05      0.69      0.10        70\n",
      "\n",
      "    accuracy                           0.10      2627\n",
      "   macro avg       0.12      0.25      0.10      2627\n",
      "weighted avg       0.16      0.10      0.09      2627\n",
      "\n"
     ]
    },
    {
     "name": "stderr",
     "output_type": "stream",
     "text": [
      "/Users/yessen/Documents/_BINUS/Teaching/COMP6065001_AI2023/myenv/lib/python3.11/site-packages/sklearn/metrics/_classification.py:1471: UndefinedMetricWarning: Precision and F-score are ill-defined and being set to 0.0 in labels with no predicted samples. Use `zero_division` parameter to control this behavior.\n",
      "  _warn_prf(average, modifier, msg_start, len(result))\n",
      "/Users/yessen/Documents/_BINUS/Teaching/COMP6065001_AI2023/myenv/lib/python3.11/site-packages/sklearn/metrics/_classification.py:1471: UndefinedMetricWarning: Precision and F-score are ill-defined and being set to 0.0 in labels with no predicted samples. Use `zero_division` parameter to control this behavior.\n",
      "  _warn_prf(average, modifier, msg_start, len(result))\n",
      "/Users/yessen/Documents/_BINUS/Teaching/COMP6065001_AI2023/myenv/lib/python3.11/site-packages/sklearn/metrics/_classification.py:1471: UndefinedMetricWarning: Precision and F-score are ill-defined and being set to 0.0 in labels with no predicted samples. Use `zero_division` parameter to control this behavior.\n",
      "  _warn_prf(average, modifier, msg_start, len(result))\n"
     ]
    }
   ],
   "source": [
    "print(total_preds.shape)\n",
    "\n",
    "# model's performance\n",
    "preds_max = np.argmax(total_preds, axis = 1)\n",
    "print(classification_report(test_y, preds_max))"
   ]
  },
  {
   "cell_type": "code",
   "execution_count": 140,
   "id": "662ad5ae-86ff-4772-91c7-0d9698f19459",
   "metadata": {},
   "outputs": [
    {
     "data": {
      "text/html": [
       "<div>\n",
       "<style scoped>\n",
       "    .dataframe tbody tr th:only-of-type {\n",
       "        vertical-align: middle;\n",
       "    }\n",
       "\n",
       "    .dataframe tbody tr th {\n",
       "        vertical-align: top;\n",
       "    }\n",
       "\n",
       "    .dataframe thead th {\n",
       "        text-align: right;\n",
       "    }\n",
       "</style>\n",
       "<table border=\"1\" class=\"dataframe\">\n",
       "  <thead>\n",
       "    <tr style=\"text-align: right;\">\n",
       "      <th>col_0</th>\n",
       "      <th>0</th>\n",
       "      <th>2</th>\n",
       "      <th>3</th>\n",
       "      <th>4</th>\n",
       "    </tr>\n",
       "    <tr>\n",
       "      <th>row_0</th>\n",
       "      <th></th>\n",
       "      <th></th>\n",
       "      <th></th>\n",
       "      <th></th>\n",
       "    </tr>\n",
       "  </thead>\n",
       "  <tbody>\n",
       "    <tr>\n",
       "      <th>0</th>\n",
       "      <td>93</td>\n",
       "      <td>164</td>\n",
       "      <td>546</td>\n",
       "      <td>120</td>\n",
       "    </tr>\n",
       "    <tr>\n",
       "      <th>1</th>\n",
       "      <td>105</td>\n",
       "      <td>81</td>\n",
       "      <td>282</td>\n",
       "      <td>412</td>\n",
       "    </tr>\n",
       "    <tr>\n",
       "      <th>2</th>\n",
       "      <td>46</td>\n",
       "      <td>43</td>\n",
       "      <td>217</td>\n",
       "      <td>236</td>\n",
       "    </tr>\n",
       "    <tr>\n",
       "      <th>3</th>\n",
       "      <td>15</td>\n",
       "      <td>12</td>\n",
       "      <td>86</td>\n",
       "      <td>99</td>\n",
       "    </tr>\n",
       "    <tr>\n",
       "      <th>4</th>\n",
       "      <td>3</td>\n",
       "      <td>2</td>\n",
       "      <td>17</td>\n",
       "      <td>48</td>\n",
       "    </tr>\n",
       "  </tbody>\n",
       "</table>\n",
       "</div>"
      ],
      "text/plain": [
       "col_0    0    2    3    4\n",
       "row_0                    \n",
       "0       93  164  546  120\n",
       "1      105   81  282  412\n",
       "2       46   43  217  236\n",
       "3       15   12   86   99\n",
       "4        3    2   17   48"
      ]
     },
     "execution_count": 140,
     "metadata": {},
     "output_type": "execute_result"
    }
   ],
   "source": [
    "# confusion matrix\n",
    "pd.crosstab(test_y, preds_max)"
   ]
  },
  {
   "cell_type": "markdown",
   "id": "4bb32af9-68be-42d8-b2b4-d7421289d95b",
   "metadata": {},
   "source": [
    "## 2. Home assignment"
   ]
  },
  {
   "cell_type": "markdown",
   "id": "22f05886-a308-4ae3-aade-a389727a21d8",
   "metadata": {},
   "source": [
    "In this assignment, you need to implement a baseline DL pipeline <br>\n",
    "for the task of your project. For that, you have to 1) identify your task <br>\n",
    "and 2) find/prepare a dataset. This assignment will be a pre-step <br>\n",
    "towards your final project. So, once you select the task,<br>\n",
    "you will not be allowed to change it until the end of the course.<br>\n",
    "However, you are allowed to use any dataset for your task.<br>\n",
    "\n",
    "<b>Requirements:</b> <br>\n",
    "You have to follow the DL pipeline outlined above for your task. <br>\n",
    "Although some steps might not be applicable for your task and dataset pair <br>\n",
    "(e.g.: the dataset has only features, or pre-trained model is not used),<br>\n",
    "but the task specification, model training and model evaluation steps are mandatory.<br>\n",
    "\n",
    "<b>Deadline</b>: 23:59, 29.11.2023 <br>\n",
    "<b>Late submissions</b>: 20% point deduction will be applied.\n"
   ]
  },
  {
   "cell_type": "code",
   "execution_count": null,
   "id": "541b0412-b7ea-497a-8c6f-f5c8528e09c4",
   "metadata": {},
   "outputs": [],
   "source": []
  }
 ],
 "metadata": {
  "kernelspec": {
   "display_name": "Python 3 (ipykernel)",
   "language": "python",
   "name": "python3"
  },
  "language_info": {
   "codemirror_mode": {
    "name": "ipython",
    "version": 3
   },
   "file_extension": ".py",
   "mimetype": "text/x-python",
   "name": "python",
   "nbconvert_exporter": "python",
   "pygments_lexer": "ipython3",
   "version": "3.11.6"
  }
 },
 "nbformat": 4,
 "nbformat_minor": 5
}
