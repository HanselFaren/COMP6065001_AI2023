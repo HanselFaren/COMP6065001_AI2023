{
 "cells": [
  {
   "cell_type": "markdown",
   "id": "3bf1eada-d40b-491d-bb7a-6d92a4ce3ea2",
   "metadata": {},
   "source": [
    "# Reinforcement Learning\n",
    "\n",
    "Outline\n",
    "1. Path finding example\n",
    "2. Getting started with Gym\n",
    "3. Designing AI agent\n",
    "4. Exercise\n",
    "5. References"
   ]
  },
  {
   "cell_type": "markdown",
   "id": "a45dd62c-d689-4876-ade9-00f4997c9e24",
   "metadata": {},
   "source": [
    "### 1. Path finding example"
   ]
  },
  {
   "cell_type": "code",
   "execution_count": 14,
   "id": "e066e507-89dc-4e0b-ae88-5111397c66ed",
   "metadata": {},
   "outputs": [
    {
     "name": "stdout",
     "output_type": "stream",
     "text": [
      "Trained Q matrix\n",
      "[[  0.    0.    0.    0.   80.    0. ]\n",
      " [  0.    0.    0.   64.    0.  100. ]\n",
      " [  0.    0.    0.   64.    0.    0. ]\n",
      " [  0.   80.   51.2   0.   80.    0. ]\n",
      " [  0.   80.   51.2   0.    0.  100. ]\n",
      " [  0.   80.    0.    0.   80.  100. ]]\n",
      "Selected path\n",
      "[2, 3, 4, 5]\n"
     ]
    }
   ],
   "source": [
    "from locale import currency\n",
    "import numpy as np\n",
    "\n",
    "R = np.matrix([[-1,-1,-1,-1,0,-1],\n",
    "               [-1,-1,-1,0,-1,100],\n",
    "               [-1,-1,-1,0,-1,-1],\n",
    "               [-1,0,0,-1,0,-1],\n",
    "               [-1,0,0,-1,-1,100],\n",
    "               [-1,0,-1,-1,0,100]])\n",
    "\n",
    "Q=np.matrix(np.zeros([6,6]))\n",
    "\n",
    "alpha = 0.8\n",
    "\n",
    "initial_state=1\n",
    "\n",
    "def available_actions(state):\n",
    "    curr_state_row = R[state,]\n",
    "    av_act = np.where(curr_state_row>=0)[1]\n",
    "    return av_act\n",
    "\n",
    "available_act = available_actions(initial_state)\n",
    "\n",
    "def sample_next_action(available_actions_range):\n",
    "    next_action = int(np.random.choice(available_act))\n",
    "    return next_action\n",
    "\n",
    "action = sample_next_action(available_act)\n",
    "\n",
    "def update (current_state, action, alpha):\n",
    "    max_index = np.where(Q[action,]==np.max(Q[action,]))[1]\n",
    "\n",
    "    if (max_index.shape[0] > 1):\n",
    "        max_index = int (np.random.choice(max_index))\n",
    "    else:\n",
    "        max_index = max_index[0]\n",
    "    max_value = Q[action, max_index]\n",
    "\n",
    "    #Q learning formula\n",
    "    Q[current_state,action] = R[current_state, action] + alpha*max_value\n",
    "\n",
    "update(initial_state, action, alpha)\n",
    "\n",
    "# TRAINING\n",
    "for i in range (10000):\n",
    "    current_state = np.random.randint(0,int(Q.shape[0]))\n",
    "    available_act = available_actions(current_state)\n",
    "    action = sample_next_action(available_act)\n",
    "    update(current_state, action, alpha)\n",
    "\n",
    "print(\"Trained Q matrix\")\n",
    "print(Q/np.max(Q)* 100)\n",
    "\n",
    "# TESTING\n",
    "goal_state = 5\n",
    "current_state = 2\n",
    "steps = [current_state]\n",
    "\n",
    "while current_state != goal_state:\n",
    "    next_step_index = np.where(Q[current_state,]==np.max(Q[current_state,]))[1]\n",
    "    if next_step_index.shape[0] > 1:\n",
    "        next_step_index=int(np.random.choice(next_step_index))\n",
    "    else:\n",
    "        next_step_index = next_step_index[0]\n",
    "    steps.append(next_step_index)\n",
    "    current_state  =  next_step_index\n",
    "\n",
    "print(\"Selected path\")\n",
    "print(steps)"
   ]
  },
  {
   "cell_type": "code",
   "execution_count": null,
   "id": "05b4f664-4ca7-4657-b6d8-0feeaa1db47a",
   "metadata": {},
   "outputs": [],
   "source": [
    "action = 2\n",
    "print(current_state, action)\n",
    "def update (current_state, action, alpha):\n",
    "    max_index = np.where(Q[action,]==np.max(Q[action,]))[1]\n",
    "    print(Q[action,])\n",
    "    print(np.max(Q[action,]))\n",
    "    print(max_index)\n",
    "\n",
    "    if (max_index.shape[0] > 1):\n",
    "        max_index = int (np.random.choice(max_index))\n",
    "    else:\n",
    "        max_index = max_index[0]\n",
    "    max_value = Q[action, max_index]\n",
    "    print(max_value)\n",
    "\n",
    "    #Q learning formula\n",
    "    Q[current_state,action] = R[current_state, action] + alpha*max_value\n",
    "\n",
    "print(Q)\n",
    "update(initial_state, action, alpha)"
   ]
  },
  {
   "attachments": {},
   "cell_type": "markdown",
   "id": "f01b29bc-2f3a-4388-8ff1-d5593615c34a",
   "metadata": {},
   "source": [
    "### 2. Getting started with Gym\n",
    "\n",
    "In this part, we install the necessary packages and <br>\n",
    "1) create an environment <br>\n",
    "2) draw the current state (observation) <br>\n",
    "3) create a default loop to interact with the environment\n"
   ]
  },
  {
   "cell_type": "code",
   "execution_count": null,
   "id": "9e086479-3ba8-403a-b38a-be3de07e0fd1",
   "metadata": {},
   "outputs": [],
   "source": [
    "# install the library\n",
    "!pip install gymnasium\n",
    "!pip install pygame\n",
    "!pip install matplotlib"
   ]
  },
  {
   "cell_type": "code",
   "execution_count": 1,
   "id": "0b53c405-bfe8-434d-8606-d267e1da60d7",
   "metadata": {},
   "outputs": [
    {
     "name": "stdout",
     "output_type": "stream",
     "text": [
      "The observation space: Box([-4.8000002e+00 -3.4028235e+38 -4.1887903e-01 -3.4028235e+38], [4.8000002e+00 3.4028235e+38 4.1887903e-01 3.4028235e+38], (4,), float32)\n",
      "The action space: Discrete(2)\n"
     ]
    }
   ],
   "source": [
    "import gymnasium as gym\n",
    "import matplotlib.pyplot as plt \n",
    "import random\n",
    "\n",
    "# Initialize environment\n",
    "env = gym.make('CartPole-v1', render_mode = 'rgb_array')\n",
    "\n",
    "# Observation and action space \n",
    "obs_space = env.observation_space\n",
    "action_space = env.action_space\n",
    "print(\"The observation space: {}\".format(obs_space))\n",
    "print(\"The action space: {}\".format(action_space))"
   ]
  },
  {
   "cell_type": "code",
   "execution_count": 12,
   "id": "533f5ed8-10bb-43f0-a1ed-81124d11a283",
   "metadata": {},
   "outputs": [
    {
     "name": "stdout",
     "output_type": "stream",
     "text": [
      "The initial observation is [0.04771857 0.01951293 0.03574747 0.02476344]\n"
     ]
    },
    {
     "data": {
      "text/plain": [
       "<matplotlib.image.AxesImage at 0x147ce1f90>"
      ]
     },
     "execution_count": 12,
     "metadata": {},
     "output_type": "execute_result"
    },
    {
     "data": {
      "image/png": "[encoded data removed]",
      "text/plain": [
       "<Figure size 640x480 with 1 Axes>"
      ]
     },
     "metadata": {},
     "output_type": "display_data"
    }
   ],
   "source": [
    "# reset the environment and see the initial observation\n",
    "obs, info = env.reset()\n",
    "print(\"The initial observation is {}\".format(obs))\n",
    "\n",
    "# Draw the current state (observation)\n",
    "env_screen = env.render()\n",
    "env.close()\n",
    "\n",
    "plt.imshow(env_screen)"
   ]
  },
  {
   "cell_type": "code",
   "execution_count": 10,
   "id": "84e33f16-fad6-4357-8039-cefce299d583",
   "metadata": {},
   "outputs": [
    {
     "name": "stdout",
     "output_type": "stream",
     "text": [
      "step: 0 [-0.01934795 -0.16680086  0.01201243  0.27526724] 1.0 False False\n",
      "step: 1 [-0.02268397 -0.3620921   0.01751778  0.5717146 ] 1.0 False False\n",
      "step: 2 [-0.02992581 -0.16722013  0.02895207  0.28460142] 1.0 False False\n",
      "step: 3 [-0.03327022  0.02747718  0.03464409  0.00118855] 1.0 False False\n",
      "step: 4 [-0.03272067 -0.16812405  0.03466786  0.30459768] 1.0 False False\n",
      "step: 5 [-0.03608315 -0.36372244  0.04075982  0.6080093 ] 1.0 False False\n",
      "step: 6 [-0.0433576  -0.16919336  0.05292001  0.32843807] 1.0 False False\n",
      "step: 7 [-0.04674147 -0.3650272   0.05948877  0.6373288 ] 1.0 False False\n",
      "step: 8 [-0.05404201 -0.560926    0.07223534  0.9481367 ] 1.0 False False\n",
      "step: 9 [-0.06526054 -0.75694233  0.09119807  1.262613  ] 1.0 False False\n",
      "step: 10 [-0.08039938 -0.56309706  0.11645034  0.9998286 ] 1.0 False False\n",
      "step: 11 [-0.09166132 -0.36970785  0.13644691  0.74586844] 1.0 False False\n",
      "step: 12 [-0.09905548 -0.5664223   0.15136428  1.0781887 ] 1.0 False False\n",
      "step: 13 [-0.11038393 -0.3735879   0.17292805  0.8365757 ] 1.0 False False\n",
      "step: 14 [-0.11785568 -0.18119617  0.18965957  0.6028801 ] 1.0 False False\n",
      "step: 15 [-0.12147961 -0.37839368  0.20171717  0.94879854] 1.0 False False\n",
      "step: 16 [-0.12904748 -0.5755756   0.22069314  1.2974777 ] 1.0 True False\n"
     ]
    }
   ],
   "source": [
    "# Main (default) loop of the simulation\n",
    "for i in range(1000):\n",
    "    # get sample action from action space\n",
    "    action = env.action_space.sample() \n",
    "\n",
    "    # apply selected action \n",
    "    # get new observation and reward\n",
    "    # status if terminated or truncated, and other debug info\n",
    "    observation, reward, terminated, truncated, info = env.step(action)\n",
    "    print(\"step: %d\"%i, observation, reward, terminated, truncated,)\n",
    "\n",
    "    if terminated or truncated:\n",
    "        observation, info = env.reset()\n",
    "        break\n",
    "        "
   ]
  },
  {
   "cell_type": "code",
   "execution_count": null,
   "id": "fdbde283-a3df-41c3-9c34-b3f4990fa26b",
   "metadata": {},
   "outputs": [],
   "source": [
    "# Draw the current state (observation)\n",
    "env_screen = env.render()\n",
    "env.close()\n",
    "\n",
    "plt.imshow(env_screen)"
   ]
  },
  {
   "cell_type": "markdown",
   "id": "7e33efb9-3a42-46c8-bace-dbf340452b92",
   "metadata": {},
   "source": [
    "### 3. Designing AI Agent\n",
    "\n",
    "In this part, we create a class for our Agent that is not learning anything yet, <br>\n",
    "but selects his actions randomly given the state."
   ]
  },
  {
   "cell_type": "code",
   "execution_count": 13,
   "id": "610dc75b-110a-49c2-a613-71e1441b497e",
   "metadata": {},
   "outputs": [
    {
     "name": "stdout",
     "output_type": "stream",
     "text": [
      "Reset state:  [-0.01227121 -0.04632531 -0.00631484  0.00064845]\n",
      "State at 0: [-0.01319772 -0.24135612 -0.00630187  0.2913323 ]\n",
      "1.0 [-0.01319772 -0.24135612 -0.00630187  0.2913323 ] False\n",
      "State at 1: [-1.8024843e-02 -4.3638766e-01 -4.7522088e-04  5.8202106e-01]\n",
      "1.0 [-1.8024843e-02 -4.3638766e-01 -4.7522088e-04  5.8202106e-01] False\n",
      "State at 2: [-0.02675259 -0.6315029   0.0111652   0.8745542 ]\n",
      "1.0 [-0.02675259 -0.6315029   0.0111652   0.8745542 ] False\n",
      "State at 3: [-0.03938266 -0.43653455  0.02865629  0.58540237]\n",
      "1.0 [-0.03938266 -0.43653455  0.02865629  0.58540237] False\n",
      "State at 4: [-0.04811335 -0.24182546  0.04036433  0.30188245]\n",
      "1.0 [-0.04811335 -0.24182546  0.04036433  0.30188245] False\n",
      "State at 5: [-0.05294985 -0.04730136  0.04640198  0.02219786]\n",
      "1.0 [-0.05294985 -0.04730136  0.04640198  0.02219786] False\n",
      "State at 6: [-0.05389588  0.14712548  0.04684594 -0.2554912 ]\n",
      "1.0 [-0.05389588  0.14712548  0.04684594 -0.2554912 ] False\n",
      "State at 7: [-0.05095337  0.34154835  0.04173611 -0.5330379 ]\n",
      "1.0 [-0.05095337  0.34154835  0.04173611 -0.5330379 ] False\n",
      "State at 8: [-0.04412241  0.53605926  0.03107536 -0.8122833 ]\n",
      "1.0 [-0.04412241  0.53605926  0.03107536 -0.8122833 ] False\n",
      "State at 9: [-0.03340122  0.73074204  0.01482969 -1.0950319 ]\n",
      "1.0 [-0.03340122  0.73074204  0.01482969 -1.0950319 ] False\n",
      "State at 10: [-0.01878638  0.92566556 -0.00707095 -1.3830252 ]\n",
      "1.0 [-0.01878638  0.92566556 -0.00707095 -1.3830252 ] False\n",
      "State at 11: [-2.7306748e-04  7.3063254e-01 -3.4731451e-02 -1.0925618e+00]\n",
      "1.0 [-2.7306748e-04  7.3063254e-01 -3.4731451e-02 -1.0925618e+00] False\n",
      "State at 12: [ 0.01433958  0.53598505 -0.05658269 -0.8109756 ]\n",
      "1.0 [ 0.01433958  0.53598505 -0.05658269 -0.8109756 ] False\n",
      "State at 13: [ 0.02505928  0.34168202 -0.0728022  -0.53661394]\n",
      "1.0 [ 0.02505928  0.34168202 -0.0728022  -0.53661394] False\n",
      "State at 14: [ 0.03189293  0.14765514 -0.08353448 -0.26772955]\n",
      "1.0 [ 0.03189293  0.14765514 -0.08353448 -0.26772955] False\n",
      "State at 15: [ 0.03484603 -0.04618146 -0.08888907 -0.00251908]\n",
      "1.0 [ 0.03484603 -0.04618146 -0.08888907 -0.00251908] False\n",
      "State at 16: [ 0.0339224  -0.2399236  -0.08893945  0.2608478 ]\n",
      "1.0 [ 0.0339224  -0.2399236  -0.08893945  0.2608478 ] False\n",
      "State at 17: [ 0.02912393 -0.4336708  -0.08372249  0.52420616]\n",
      "1.0 [ 0.02912393 -0.4336708  -0.08372249  0.52420616] False\n",
      "State at 18: [ 0.02045051 -0.62752086 -0.07323837  0.78937715]\n",
      "1.0 [ 0.02045051 -0.62752086 -0.07323837  0.78937715] False\n",
      "State at 19: [ 0.00790009 -0.8215647  -0.05745083  1.0581497 ]\n",
      "1.0 [ 0.00790009 -0.8215647  -0.05745083  1.0581497 ] False\n",
      "State at 20: [-0.0085312  -1.0158803  -0.03628783  1.3322611 ]\n",
      "1.0 [-0.0085312  -1.0158803  -0.03628783  1.3322611 ] False\n",
      "State at 21: [-0.02884881 -1.2105265  -0.00964261  1.6133717 ]\n",
      "1.0 [-0.02884881 -1.2105265  -0.00964261  1.6133717 ] False\n",
      "State at 22: [-0.05305934 -1.4055333   0.02262482  1.9030335 ]\n",
      "1.0 [-0.05305934 -1.4055333   0.02262482  1.9030335 ] False\n",
      "State at 23: [-0.08117    -1.2106631   0.06068549  1.617454  ]\n",
      "1.0 [-0.08117    -1.2106631   0.06068549  1.617454  ] False\n",
      "State at 24: [-0.10538326 -1.0163068   0.09303457  1.3442869 ]\n",
      "1.0 [-0.10538326 -1.0163068   0.09303457  1.3442869 ] False\n",
      "State at 25: [-0.1257094  -0.82247     0.11992031  1.082102  ]\n",
      "1.0 [-0.1257094  -0.82247     0.11992031  1.082102  ] False\n",
      "State at 26: [-0.1421588  -0.6291173   0.14156236  0.8293279 ]\n",
      "1.0 [-0.1421588  -0.6291173   0.14156236  0.8293279 ] False\n",
      "State at 27: [-0.15474115 -0.43618488  0.15814891  0.5843047 ]\n",
      "1.0 [-0.15474115 -0.43618488  0.15814891  0.5843047 ] False\n",
      "State at 28: [-0.16346484 -0.24359046  0.169835    0.34532046]\n",
      "1.0 [-0.16346484 -0.24359046  0.169835    0.34532046] False\n",
      "State at 29: [-0.16833666 -0.05124003  0.17674142  0.11063775]\n",
      "1.0 [-0.16833666 -0.05124003  0.17674142  0.11063775] False\n",
      "State at 30: [-0.16936146  0.14096698  0.17895417 -0.12148955]\n",
      "1.0 [-0.16936146  0.14096698  0.17895417 -0.12148955] False\n",
      "State at 31: [-0.16654211  0.33313397  0.17652437 -0.35280463]\n",
      "1.0 [-0.16654211  0.33313397  0.17652437 -0.35280463] False\n",
      "State at 32: [-0.15987943  0.5253641   0.16946828 -0.5850399 ]\n",
      "1.0 [-0.15987943  0.5253641   0.16946828 -0.5850399 ] False\n",
      "State at 33: [-0.14937216  0.71775776  0.15776749 -0.8199107 ]\n",
      "1.0 [-0.14937216  0.71775776  0.15776749 -0.8199107 ] False\n",
      "State at 34: [-0.135017    0.91040957  0.14136927 -1.0591079 ]\n",
      "1.0 [-0.135017    0.91040957  0.14136927 -1.0591079 ] False\n",
      "State at 35: [-0.11680881  1.1034048   0.12018711 -1.3042886 ]\n",
      "1.0 [-0.11680881  1.1034048   0.12018711 -1.3042886 ] False\n",
      "State at 36: [-0.09474071  1.2968152   0.09410134 -1.5570613 ]\n",
      "1.0 [-0.09474071  1.2968152   0.09410134 -1.5570613 ] False\n",
      "State at 37: [-0.06880441  1.4906926   0.06296012 -1.8189658 ]\n",
      "1.0 [-0.06880441  1.4906926   0.06296012 -1.8189658 ] False\n",
      "State at 38: [-0.03899055  1.6850607   0.0265808  -2.0914423 ]\n",
      "1.0 [-0.03899055  1.6850607   0.0265808  -2.0914423 ] False\n",
      "State at 39: [-0.00528934  1.879905   -0.01524805 -2.3757915 ]\n",
      "1.0 [-0.00528934  1.879905   -0.01524805 -2.3757915 ] False\n",
      "State at 40: [ 0.03230876  1.684921   -0.06276388 -2.0878325 ]\n",
      "1.0 [ 0.03230876  1.684921   -0.06276388 -2.0878325 ] False\n",
      "State at 41: [ 0.06600718  1.4904861  -0.10452053 -1.8151947 ]\n",
      "1.0 [ 0.06600718  1.4904861  -0.10452053 -1.8151947 ] False\n",
      "State at 42: [ 0.0958169   1.2966713  -0.14082442 -1.5567322 ]\n",
      "1.0 [ 0.0958169   1.2966713  -0.14082442 -1.5567322 ] False\n",
      "State at 43: [ 0.12175033  1.1034889  -0.17195907 -1.311093  ]\n",
      "1.0 [ 0.12175033  1.1034889  -0.17195907 -1.311093  ] False\n",
      "State at 44: [ 0.1438201   0.9109104  -0.19818093 -1.0767927 ]\n",
      "1.0 [ 0.1438201   0.9109104  -0.19818093 -1.0767927 ] False\n",
      "State at 45: [ 0.16203831  0.7188788  -0.21971677 -0.852268  ]\n",
      "1.0 [ 0.16203831  0.7188788  -0.21971677 -0.852268  ] True\n"
     ]
    }
   ],
   "source": [
    "from time import sleep\n",
    "import gymnasium as gym\n",
    "import random\n",
    "\n",
    "# Initialize environment\n",
    "env = gym.make('CartPole-v1', render_mode = 'rgb_array')\n",
    "\n",
    "class Agent():\n",
    "    def __init__(self, env):\n",
    "        self.action_size = env.action_space.n\n",
    "        \n",
    "    def get_action(self, state):\n",
    "        # select a random action\n",
    "        action = random.choice(range(self.action_size))\n",
    "        \n",
    "        # extract a pole angle from state\n",
    "        pole_angle = state[2]\n",
    "\n",
    "        # select action based on the pole angle\n",
    "        # 0 - Push cart to the left \n",
    "        # 1 - Push cart to the right\n",
    "        action = 0 if pole_angle < 0 else 1 \n",
    "        return action\n",
    "\n",
    "agent = Agent(env)\n",
    "state, _ = env.reset()\n",
    "print(\"Reset state: \", state)\n",
    "\n",
    "for i in range(100):\n",
    "    action = agent.get_action(state)\n",
    "    state, reward, done, trunc, info = env.step(action)\n",
    "    print(\"State at %d:\" % i, state)\n",
    "    print(reward,state,done)\n",
    "\n",
    "    if done:\n",
    "        env.reset()\n",
    "        env.close()\n",
    "        break\n",
    "    \n",
    "    env.render()\n",
    "    if reward<1:\n",
    "        sleep(3)\n",
    "        break\n",
    "env.close()"
   ]
  },
  {
   "cell_type": "markdown",
   "id": "ad044f26-7d8d-457e-ac48-5013ad8ce0d0",
   "metadata": {},
   "source": [
    "### 4. Exercise\n",
    "Implement Q-learning for CartPole task in Gym.<br>\n",
    "\n",
    "There is a sample implementation (but uses outdated packages): <br>\n",
    "https://github.com/nnqomariyah/aima-python/blob/master/gym-cartpole-qlearning.py"
   ]
  },
  {
   "attachments": {},
   "cell_type": "markdown",
   "id": "45905ebd-a56a-4677-8750-2f46175a766d",
   "metadata": {},
   "source": [
    "### 5. References\n",
    "\n",
    "1. Slides for week 7 - Reinforcement Learning\n",
    "2. https://github.com/aimacode/aima-python\n",
    "3. https://github.com/nnqomariyah/aima-python (forked)\r\n"
   ]
  },
  {
   "cell_type": "code",
   "execution_count": null,
   "id": "9a244e0b-05c2-4ef4-b7a8-b4a233f185fa",
   "metadata": {},
   "outputs": [],
   "source": []
  }
 ],
 "metadata": {
  "kernelspec": {
   "display_name": "Python 3 (ipykernel)",
   "language": "python",
   "name": "python3"
  },
  "language_info": {
   "codemirror_mode": {
    "name": "ipython",
    "version": 3
   },
   "file_extension": ".py",
   "mimetype": "text/x-python",
   "name": "python",
   "nbconvert_exporter": "python",
   "pygments_lexer": "ipython3",
   "version": "3.11.6"
  }
 },
 "nbformat": 4,
 "nbformat_minor": 5
}
