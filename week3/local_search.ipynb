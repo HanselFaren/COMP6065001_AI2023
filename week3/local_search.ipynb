{
 "cells": [
  {
   "cell_type": "markdown",
   "id": "ebdf368a-752c-4fe0-9191-ea59bf02d2b3",
   "metadata": {},
   "source": [
    "# Local and Global Optimization techniques\n",
    "\n",
    "### Outline\n",
    "1. Hill Climbing\n",
    "2. Simulated Annealing\n",
    "3. Genetic Algorithm"
   ]
  },
  {
   "cell_type": "markdown",
   "id": "108a0de5-3ec7-4d6a-bf5b-9abcdad80d18",
   "metadata": {},
   "source": [
    "### 1. Hill Climbing"
   ]
  },
  {
   "cell_type": "code",
   "execution_count": 2,
   "id": "0ae877ba-6268-43cb-a875-3738d62aacaa",
   "metadata": {},
   "outputs": [],
   "source": [
    "# Problem: \n",
    "# Given a unit hypercube, find a node with a maximum value\n",
    "# of the function defined on the coordinates of the node.\n",
    "# Ex: if node=(1,0,0,1,1,0), then f(node)=val - some value\n",
    "\n",
    "# evaluate the function value at node x\n",
    "def eval_hcube_node(x):\n",
    "    p = 149 # some prime number\n",
    "    n = len(x)\n",
    "    val = 0\n",
    "    if n>1:\n",
    "        # compute the value of the function\n",
    "        for i in range(n):\n",
    "           val += x[n-i-1] * pow(2, 2*i) \n",
    "           #val += x[i] \n",
    "            \n",
    "    return val % p\n",
    "\n",
    "# get all the neighbours of the node x\n",
    "def get_hcube_neighbours(x):\n",
    "    neighbours = []\n",
    "    n = len(x)\n",
    "    if n>1:\n",
    "        for i in range(n): \n",
    "            nd = list(x)\n",
    "            nd[i] = (nd[i]+1) % 2\n",
    "            neighbours.append(tuple(nd))\n",
    "    return neighbours"
   ]
  },
  {
   "cell_type": "code",
   "execution_count": 22,
   "id": "568138a5-156d-4e31-aa45-2f11b083c0aa",
   "metadata": {},
   "outputs": [
    {
     "name": "stdout",
     "output_type": "stream",
     "text": [
      "(0, 1, 0, 1, 0, 0, 0, 1) 32\n",
      "(1, 0, 0, 1, 0, 0, 0, 1) 102\n",
      "(1, 1, 1, 1, 0, 0, 0, 1) 7\n",
      "(1, 1, 0, 0, 0, 0, 0, 1) 68\n",
      "(1, 1, 0, 1, 1, 0, 0, 1) 90\n",
      "(1, 1, 0, 1, 0, 1, 0, 1) 42\n",
      "(1, 1, 0, 1, 0, 0, 1, 1) 30\n",
      "(1, 1, 0, 1, 0, 0, 0, 0) 25\n",
      "Max:  1 (1, 0, 0, 1, 0, 0, 0, 1) 102\n"
     ]
    }
   ],
   "source": [
    "# test hypercube functions\n",
    "import numpy as np\n",
    "\n",
    "x = (1,1,0,1,0,0,0,1)\n",
    "u = get_hcube_neighbours(x)\n",
    "vals = []\n",
    "for i in range(len(x)):\n",
    "    print(u[i], eval_hcube_node(u[i]))\n",
    "    vals.append(eval_hcube_node(u[i]))\n",
    "k = np.argmax(vals)\n",
    "print(\"Max: \",k, u[k], eval_hcube_node(u[k]))"
   ]
  },
  {
   "cell_type": "code",
   "execution_count": 23,
   "id": "2dfb894d-4b15-4c23-b263-f15ef4b2b762",
   "metadata": {},
   "outputs": [
    {
     "name": "stdout",
     "output_type": "stream",
     "text": [
      "Max after move 256: node - (1, 0, 0, 0, 0, 0, 1, 1), val - 148\n"
     ]
    }
   ],
   "source": [
    "# Exhaustive search using BFS algorithm\n",
    "\n",
    "import numpy as np\n",
    "\n",
    "nd_cur = (0,0,0,1,0,0,0,0)\n",
    "\n",
    "n = len(nd_cur)\n",
    "move = 0\n",
    "visited = set()\n",
    "Q = []\n",
    "Q.append(nd_cur)\n",
    "max_val = -1\n",
    "max_nd = nd_cur\n",
    "\n",
    "while Q:\n",
    "    # count the number of moves\n",
    "    move += 1\n",
    "\n",
    "    # get current\n",
    "    nd_cur = Q.pop(0)\n",
    "    visited.add(nd_cur)\n",
    "\n",
    "    # update max value and max node\n",
    "    if (max_val < eval_hcube_node( nd_cur )):\n",
    "        max_val = eval_hcube_node( nd_cur )\n",
    "        max_nd = nd_cur\n",
    "    \n",
    "    # get the neighbours of the current node\n",
    "    neighbours = get_hcube_neighbours(nd_cur)\n",
    "\n",
    "    # compute max function values among the neighbours\n",
    "    for nd in neighbours:\n",
    "        if (nd not in visited) and (nd not in Q):\n",
    "           Q.append(nd)\n",
    "\n",
    "# Run the algorithm\n",
    "print(\"Max after move {0}: node - {1}, val - {2}\".format(move, max_nd, max_val))    "
   ]
  },
  {
   "cell_type": "code",
   "execution_count": 4,
   "id": "11409845-57b4-4c4a-ba34-62c8cd719b20",
   "metadata": {},
   "outputs": [
    {
     "name": "stdout",
     "output_type": "stream",
     "text": [
      "nd_cur: (0, 0, 0, 1, 0, 0, 0, 0) 107\n",
      "neighbour: (1, 0, 0, 1, 0, 0, 0, 0) 101\n",
      "neighbour: (0, 1, 0, 1, 0, 0, 0, 0) 31\n",
      "neighbour: (0, 0, 1, 1, 0, 0, 0, 0) 88\n",
      "neighbour: (0, 0, 0, 0, 0, 0, 0, 0) 0\n",
      "neighbour: (0, 0, 0, 1, 1, 0, 0, 0) 22\n",
      "neighbour: (0, 0, 0, 1, 0, 1, 0, 0) 123\n",
      "neighbour: (0, 0, 0, 1, 0, 0, 1, 0) 111\n",
      "neighbour: (0, 0, 0, 1, 0, 0, 0, 1) 108\n",
      "----------------------------------------\n",
      "nd_cur: (0, 0, 0, 1, 0, 1, 0, 0) 123\n",
      "neighbour: (1, 0, 0, 1, 0, 1, 0, 0) 117\n",
      "neighbour: (0, 1, 0, 1, 0, 1, 0, 0) 47\n",
      "neighbour: (0, 0, 1, 1, 0, 1, 0, 0) 104\n",
      "neighbour: (0, 0, 0, 0, 0, 1, 0, 0) 16\n",
      "neighbour: (0, 0, 0, 1, 1, 1, 0, 0) 38\n",
      "neighbour: (0, 0, 0, 1, 0, 0, 0, 0) 107\n",
      "neighbour: (0, 0, 0, 1, 0, 1, 1, 0) 127\n",
      "neighbour: (0, 0, 0, 1, 0, 1, 0, 1) 124\n",
      "----------------------------------------\n",
      "nd_cur: (0, 0, 0, 1, 0, 1, 1, 0) 127\n",
      "neighbour: (1, 0, 0, 1, 0, 1, 1, 0) 121\n",
      "neighbour: (0, 1, 0, 1, 0, 1, 1, 0) 51\n",
      "neighbour: (0, 0, 1, 1, 0, 1, 1, 0) 108\n",
      "neighbour: (0, 0, 0, 0, 0, 1, 1, 0) 20\n",
      "neighbour: (0, 0, 0, 1, 1, 1, 1, 0) 42\n",
      "neighbour: (0, 0, 0, 1, 0, 0, 1, 0) 111\n",
      "neighbour: (0, 0, 0, 1, 0, 1, 0, 0) 123\n",
      "neighbour: (0, 0, 0, 1, 0, 1, 1, 1) 128\n",
      "----------------------------------------\n",
      "nd_cur: (0, 0, 0, 1, 0, 1, 1, 1) 128\n",
      "neighbour: (1, 0, 0, 1, 0, 1, 1, 1) 122\n",
      "neighbour: (0, 1, 0, 1, 0, 1, 1, 1) 52\n",
      "neighbour: (0, 0, 1, 1, 0, 1, 1, 1) 109\n",
      "neighbour: (0, 0, 0, 0, 0, 1, 1, 1) 21\n",
      "neighbour: (0, 0, 0, 1, 1, 1, 1, 1) 43\n",
      "neighbour: (0, 0, 0, 1, 0, 0, 1, 1) 112\n",
      "neighbour: (0, 0, 0, 1, 0, 1, 0, 1) 124\n",
      "neighbour: (0, 0, 0, 1, 0, 1, 1, 0) 127\n",
      "========================================\n",
      "Max after move 4: node - (0, 0, 0, 1, 0, 1, 1, 1), val - 128\n"
     ]
    }
   ],
   "source": [
    "# Hill climbing algorithm\n",
    "\n",
    "import numpy as np\n",
    "\n",
    "nd_cur = (0,0,0,1,0,0,0,0)\n",
    "n = len(nd_cur)\n",
    "move = 0\n",
    "while True:\n",
    "    # count the number of moves\n",
    "    move += 1\n",
    "    print(\"nd_cur:\",nd_cur, eval_hcube_node( nd_cur ))\n",
    "\n",
    "    # get the neighbours of the current node\n",
    "    neighbours = get_hcube_neighbours(nd_cur)\n",
    "\n",
    "    # compute max function values among the neighbours\n",
    "    vals = []\n",
    "    for i in range(len(neighbours)):\n",
    "        vals.append(eval_hcube_node(neighbours[i]))\n",
    "        print(\"neighbour:\",neighbours[i], eval_hcube_node( neighbours[i] ))\n",
    "    k = np.argmax(vals)\n",
    "\n",
    "    # exit if no neighbour has greater value than current value \n",
    "    if eval_hcube_node( neighbours[k] ) <=  eval_hcube_node( nd_cur ):\n",
    "        print(\"========================================\")\n",
    "        break\n",
    "\n",
    "    # select the neighbour with the greatest value\n",
    "    nd_cur = neighbours[k]\n",
    "    print(\"----------------------------------------\")\n",
    "\n",
    "# Run the algorithm\n",
    "print(\"Max after move {0}: node - {1}, val - {2}\".format(move, nd_cur, eval_hcube_node(nd_cur))) "
   ]
  },
  {
   "cell_type": "markdown",
   "id": "ee8edef1-c56c-4bdd-a07c-df4684976abe",
   "metadata": {},
   "source": [
    "### 2. Simulated Annealing"
   ]
  },
  {
   "cell_type": "code",
   "execution_count": 25,
   "id": "904bf54e-838b-4e6e-b7a6-c622cdf57576",
   "metadata": {},
   "outputs": [],
   "source": [
    "# TODO: Define a problem"
   ]
  },
  {
   "cell_type": "code",
   "execution_count": 26,
   "id": "cf4e1625-0648-412a-b45a-270ea96c7565",
   "metadata": {},
   "outputs": [
    {
     "data": {
      "image/png": "[encoded data removed]",
      "text/plain": [
       "<Figure size 640x480 with 1 Axes>"
      ]
     },
     "metadata": {},
     "output_type": "display_data"
    }
   ],
   "source": [
    "import matplotlib.pyplot as plt\n",
    "import numpy as np\n",
    "\n",
    "# temperature function\n",
    "def temperature(t):\n",
    "    A = 10\n",
    "    lam = 0.0001\n",
    "    return A * np.exp(-lam*t)\n",
    "\n",
    "# draw the ttemperature function\n",
    "X = np.array(list(range(100000)))\n",
    "Y = temperature(X)\n",
    "plt.plot(X, Y)\n",
    "plt.show()"
   ]
  },
  {
   "cell_type": "code",
   "execution_count": 54,
   "id": "c8f62d40-a9b1-4a36-8579-318ea07dd2b5",
   "metadata": {},
   "outputs": [],
   "source": [
    "# setup a probability function\n",
    "import numpy as np\n",
    "\n",
    "def probability(E_cur, E_new, T):\n",
    "    eps = 1e-43\n",
    "    if T < eps:\n",
    "        print(\"T is small\", T)\n",
    "        return 0\n",
    "    else:\n",
    "        if E_cur < E_new:\n",
    "            return 1\n",
    "        else:\n",
    "            d = E_cur - E_new\n",
    "            return np.exp(-d/T)"
   ]
  },
  {
   "cell_type": "code",
   "execution_count": 55,
   "id": "f0a2fb0e-3c2a-4d5c-9ebd-e39667074cd7",
   "metadata": {},
   "outputs": [
    {
     "name": "stdout",
     "output_type": "stream",
     "text": [
      "T: 3.7204480022193976e-43\n",
      "Max after move 1000000: node - (1, 0, 0, 1, 0, 1, 1), val=142, T=3.7204480022193976e-43\n"
     ]
    }
   ],
   "source": [
    "### Pseudocode from Wikipedia\n",
    "# Let s = s0\n",
    "# For k = 0 through kmax (exclusive):\n",
    "#   T ← temperature( 1 - (k+1)/kmax )\n",
    "#   Pick a random neighbour, snew ← neighbour(s)\n",
    "#   If P(E(s), E(snew), T) ≥ random(0, 1):\n",
    "#      s ← snew\n",
    "# Output: the final state s\n",
    "\n",
    "import sys\n",
    "import numpy as np\n",
    "import random as rnd\n",
    "\n",
    "rnd.seed(1000)\n",
    "\n",
    "nd_cur = (1,0,0,0,0,1,0)\n",
    "move = 0\n",
    "#Kmax = sys.maxsize\n",
    "Kmax = 1000000\n",
    "for k in range(Kmax):\n",
    "    # count the number of moves\n",
    "    move += 1    \n",
    "    \n",
    "    # set the temperature\n",
    "    T = temperature(k)\n",
    "\n",
    "    # get the neighbours of the current node\n",
    "    neighbours = get_hcube_neighbours(nd_cur)\n",
    "\n",
    "    # pick a random neigbour\n",
    "    n = len(neighbours)\n",
    "    i = rnd.randint(0, n-1)\n",
    "    nd_new = neighbours[i]\n",
    "\n",
    "    # select this neighbour if P(Ecur,Enew,T) > random number\n",
    "    val_cur = eval_hcube_node(nd_cur)\n",
    "    val_new = eval_hcube_node(nd_new)\n",
    "    if probability(val_cur, val_new, T) > rnd.random():\n",
    "        nd_cur = nd_new\n",
    "\n",
    "print(\"T:\", T)\n",
    "\n",
    "# Run the algorithm\n",
    "print(\"Max after move {0}: node - {1}, val={2}, T={3}\".format(move, nd_cur, eval_hcube_node(nd_cur),T))"
   ]
  },
  {
   "cell_type": "markdown",
   "id": "5d03372d-8211-4c70-bf2c-8c254a7ff89e",
   "metadata": {},
   "source": [
    "### 3. Genetic Algorithm"
   ]
  },
  {
   "cell_type": "code",
   "execution_count": null,
   "id": "3b5e4558-bbb4-4431-aa49-bc96efbd7c8a",
   "metadata": {},
   "outputs": [],
   "source": [
    "# TODO: Define a problem"
   ]
  },
  {
   "cell_type": "code",
   "execution_count": 168,
   "id": "e70e003a-629b-49a7-841a-2a86d8bd8924",
   "metadata": {},
   "outputs": [],
   "source": [
    "## Source: https://github.com/aimacode/aima-python/blob/master/search.py\n",
    "\n",
    "import random\n",
    "\n",
    "# Perform search using Genetic algorithm\n",
    "def genetic_algorithm(population_size, gene_pool, parents_ratio, mutation_prob, max_iter):\n",
    "    # best node and fitness\n",
    "    best_fit = -1\n",
    "    best_node = None\n",
    "\n",
    "    # initial population\n",
    "    pop = init_population(population_size, [0,1], 8)\n",
    "\n",
    "    for i in range(max_iter):\n",
    "        # sort the instances by fitness\n",
    "        pop = sorted(pop, key=fitness, reverse=True)\n",
    "\n",
    "        # check for best node and fitness\n",
    "        if fitness(pop[0]) > best_fit:\n",
    "            best_node = pop[0]\n",
    "            best_fit = fitness(pop[0])\n",
    "\n",
    "        # select parents and start breeding\n",
    "        children = []\n",
    "        parents = select_parents(pop, parents_ratio)\n",
    "        p = int(len(parents)/2)\n",
    "        for i in range(p):\n",
    "            #choose parents\n",
    "            p1 = parents[i]\n",
    "            p2 = parents[p+i]\n",
    "            \n",
    "            # breed and mutate the child\n",
    "            child = mutate(crossover(p1, p2), gene_pool, mutation_prob)\n",
    "            children.append(child)\n",
    "\n",
    "        # create new population\n",
    "        pop = select_population(pop, children)\n",
    "\n",
    "    return best_node, best_fit\n",
    "\n",
    "# Initialize population\n",
    "def init_population(pop_number, gene_pool, state_length):\n",
    "    \"\"\"Initializes population for genetic algorithm\n",
    "    pop_number  :  Number of individuals in population\n",
    "    gene_pool   :  List of possible values for individuals\n",
    "    state_length:  The length of each individual\"\"\"\n",
    "    g = len(gene_pool)\n",
    "    population = []\n",
    "    for i in range(pop_number):\n",
    "        new_individual = [gene_pool[random.randrange(0, g)] for j in range(state_length)]\n",
    "        population.append(new_individual)\n",
    "\n",
    "    return population\n",
    "\n",
    "# Fitness function:\n",
    "# returns the value at a hypercube node x\n",
    "def fitness(x):\n",
    "    return eval_hcube_node(x)\n",
    "    \n",
    "# Select parents for breeding:\n",
    "# k - ratio of the parents to be selected\n",
    "def select_parents(pop, k):\n",
    "    # sort the instances by fitness\n",
    "    pop_sorted = sorted(pop, key=fitness, reverse=True)\n",
    "    \n",
    "    n = len(pop)\n",
    "    parents = pop_sorted[0 : int(k*n)]\n",
    "    return parents \n",
    "\n",
    "# Crossover function:\n",
    "# takes two parents and returns a new child\n",
    "def crossover(x, y):\n",
    "    n = len(x)\n",
    "    c = random.randrange(0, n)\n",
    "    return x[:c] + y[c:]\n",
    "\n",
    "# Mutation function:\n",
    "# changes one bit of the sample x\n",
    "def mutate(x, gene_pool, pmut):\n",
    "    prob = random.uniform(0, 1)\n",
    "    if prob >= pmut:\n",
    "        return x\n",
    "\n",
    "    n = len(x)\n",
    "    g = len(gene_pool)\n",
    "    c = random.randrange(0, n)\n",
    "    r = random.randrange(0, g)\n",
    "    new_gene = gene_pool[r]\n",
    "    \n",
    "    return x[:c] + [new_gene] + x[c + 1:]\n",
    "\n",
    "# Selection function:\n",
    "# pop - population, k - ratio of selected instance\n",
    "def select_population(pop, children):\n",
    "    # sort the instances by fitness\n",
    "    pop_sorted = sorted(pop, key=fitness, reverse=True)\n",
    "\n",
    "    # create new generation by replacing the current\n",
    "    # population's tail with new children\n",
    "    n = len(pop)\n",
    "    k = len(children)\n",
    "    new_pop = pop_sorted[0: n-k] + children\n",
    "    \n",
    "    return new_pop"
   ]
  },
  {
   "cell_type": "code",
   "execution_count": 178,
   "id": "c2016411-0187-47ba-ab9d-31fb6161ece1",
   "metadata": {},
   "outputs": [
    {
     "name": "stdout",
     "output_type": "stream",
     "text": [
      "[0, 0, 0, 1, 0, 1, 1, 1] 128\n",
      "[1, 0, 1, 1, 0, 1, 0, 0] 98\n",
      "[0, 1, 0, 0, 0, 1, 0, 0] 89\n",
      "[1, 0, 1, 1, 0, 0, 0, 0] 82\n",
      "[1, 0, 1, 0, 1, 0, 1, 1] 44\n",
      "[1, 0, 1, 0, 1, 1, 1, 0] 59\n",
      "[1, 0, 1, 1, 1, 0, 1, 0] 1\n",
      "[1, 1, 1, 0, 1, 0, 1, 0] 116\n"
     ]
    }
   ],
   "source": [
    "P = init_population(8, [0,1], 8)\n",
    "children = [\n",
    "    [1, 0, 1, 0, 1, 0, 1, 1],\n",
    "    [1, 0, 1, 0, 1, 1, 1, 0],\n",
    "    [1, 0, 1, 1, 1, 0, 1, 0],\n",
    "    [1, 1, 1, 0, 1, 0, 1, 0],\n",
    "]\n",
    "for p in select_population(P, children ):\n",
    "    print(p, fitness(p))"
   ]
  },
  {
   "cell_type": "code",
   "execution_count": 182,
   "id": "1154149f-9086-45e3-9200-ba3cce49efb1",
   "metadata": {},
   "outputs": [
    {
     "name": "stdout",
     "output_type": "stream",
     "text": [
      "[1, 0, 1, 0, 1, 0, 1, 0]\n",
      "[1, 0, 1, 0, 1, 0, 1, 0]\n",
      "[1, 0, 1, 0, 0, 0, 1, 0]\n",
      "[1, 0, 1, 0, 1, 0, 1, 0]\n",
      "[1, 0, 1, 0, 1, 0, 0, 0]\n",
      "[1, 0, 1, 1, 1, 0, 1, 0]\n",
      "[0, 0, 1, 0, 1, 0, 1, 0]\n",
      "[1, 0, 1, 0, 1, 0, 1, 0]\n",
      "[1, 0, 1, 0, 1, 0, 1, 0]\n",
      "[1, 0, 1, 0, 1, 0, 1, 1]\n"
     ]
    }
   ],
   "source": [
    "for i in range(10):\n",
    "    x = [1, 0, 1, 0, 1, 0, 1, 0]\n",
    "    y = mutate(x, [0,1], 0.8)\n",
    "    print(y)"
   ]
  },
  {
   "cell_type": "code",
   "execution_count": 214,
   "id": "d43d4eb9-2f53-40f2-a082-70238ad62d1b",
   "metadata": {},
   "outputs": [
    {
     "name": "stdout",
     "output_type": "stream",
     "text": [
      "[1, 0, 0, 0, 0, 0, 1, 1] 148\n"
     ]
    }
   ],
   "source": [
    "# run the genetic algorithm\n",
    "population_size = 16\n",
    "gene_pool = [0,1]\n",
    "parents_ratio = 0.5\n",
    "mutation_prob = 0.1\n",
    "max_iter = 1000\n",
    "x,y = genetic_algorithm(\n",
    "            population_size, \n",
    "            gene_pool, \n",
    "            parents_ratio, \n",
    "            mutation_prob, \n",
    "            max_iter)\n",
    "print(x,y)"
   ]
  },
  {
   "cell_type": "code",
   "execution_count": null,
   "id": "83ae6a44-f94e-41d6-928c-2df7f9a707c0",
   "metadata": {},
   "outputs": [],
   "source": []
  },
  {
   "cell_type": "code",
   "execution_count": null,
   "id": "2c2190ce-a5bb-49f0-8097-f162793dee98",
   "metadata": {},
   "outputs": [],
   "source": []
  }
 ],
 "metadata": {
  "kernelspec": {
   "display_name": "Python 3 (ipykernel)",
   "language": "python",
   "name": "python3"
  },
  "language_info": {
   "codemirror_mode": {
    "name": "ipython",
    "version": 3
   },
   "file_extension": ".py",
   "mimetype": "text/x-python",
   "name": "python",
   "nbconvert_exporter": "python",
   "pygments_lexer": "ipython3",
   "version": "3.9.6"
  }
 },
 "nbformat": 4,
 "nbformat_minor": 5
}
