{
 "cells": [
  {
   "cell_type": "markdown",
   "id": "300a0d86-31d3-499e-a6f9-61ed9036117c",
   "metadata": {},
   "source": [
    "# Knowledge representation"
   ]
  },
  {
   "cell_type": "markdown",
   "id": "cc4b8bd5-544a-48af-94b1-5fbbdc9b7c44",
   "metadata": {},
   "source": [
    "### Outline\n",
    "1. Installing PROLOG and basics\n",
    "2. Creating knowledge base\n",
    "3. Exercise"
   ]
  },
  {
   "cell_type": "markdown",
   "id": "f2ea4e25-51ff-4ac5-a07f-1bf1928dbdb0",
   "metadata": {},
   "source": [
    "### 1. Installing Prolog\n",
    "\n",
    "In order to follow the instruction and the exercise of this Tutorial, you need to install Prolog. <br>\n",
    "The best choice to install Prolog is SWI Prolog (https://www.swi-prolog.org/). <br>\n",
    "To install it, follow the instructions: <br> \n",
    "- https://www.youtube.com/watch?v=WegA56sLi5U <br>\n",
    "- https://www.geeksforgeeks.org/how-to-install-swi-prolog-on-windows/ <br>\n",
    "\n",
    "Basic tutorial on SWI Prolog can be found in: <br>\n",
    "- https://www.swi-prolog.org/pldoc/man?section=quickstart <br>\n",
    "- https://ocw.upj.ac.id/files/Textbook-TIF212-Prolog-Tutorial-3.pdf <br>\n",
    "- https://www.youtube.com/watch?v=WegA56sLi5U <br>"
   ]
  },
  {
   "attachments": {},
   "cell_type": "markdown",
   "id": "b0c02151-346e-4ee2-9307-f91483a09731",
   "metadata": {},
   "source": [
    "### 2. Creating Knowledge Base\n",
    "In this tutorial, we will create a new knowledge base and implement the example on the page 330 in the text book <br>\n",
    "- Russell, S..J. ,& Norvig, P. (2010). Artificial intelligence: A Modern Approach (3rd Ed.). New York: Pearson. ISBN: 860-1419506989 <br>\n",
    "\n",
    "Statement: <br>\n",
    "\"The law says that it is a crime for an American to sell weapons to hostile nations. The country Nono, an enemy of America, has some missiles, and all of its missiles were sold to it by Colonel West, who is American.\" <br>\n",
    "\n",
    "Task: <br>\n",
    "Create a knowledge base in Prolog and prove that West is a criminal. <br>\r\n"
   ]
  },
  {
   "cell_type": "markdown",
   "id": "de211b47-d08c-4298-bef0-91e138d8c063",
   "metadata": {},
   "source": [
    "Solution: <br>\n",
    "Create a knowledge base by representing the facts in the given statement using Prolog syntax. <br>\n",
    "The knowledge base is stored in the file *criminals.pl*.\n",
    "\n",
    "1. “... it is a crime for an American to sell weapons to hostile nations”: <br>\n",
    "criminal(X) :- american(X), weapon(Y), sells(X,Y,Z), hostile(Z).\n",
    "\n",
    "2. “Nono . . . has some missiles.”: <br>\n",
    "missile(m_one). <br>\n",
    "owns(nono, m_one).\n",
    "\n",
    "3. “All of its missiles were sold to it by Colonel West”:<br>\n",
    "sells(west, X, nono) :- missile(X),owns(nono, X).\n",
    "\n",
    "4. We will also need to know that missiles are weapons: <br>\n",
    "weapon(X) :- missile(X).\n",
    "\n",
    "5. We must know that an enemy of America counts as “hostile”:<br>\n",
    "enemy(nono, america). <br>\n",
    "hostile(X) :- enemy(X, america).\n",
    "\n",
    "6. “West, who is American . . .”:<br>\n",
    "american(west).\n",
    "\n",
    "7. Some other facts: <br>\n",
    "american(bob).\n",
    "\n",
    "\n",
    "\n",
    "\n"
   ]
  },
  {
   "cell_type": "markdown",
   "id": "ef083ee4-de30-4fdd-b439-eb871c021f77",
   "metadata": {},
   "source": [
    "Making queries in Prolog: <br>\n",
    "\n",
    "// Check if Bob is a criminal <br>\n",
    "criminal(bob). <br>\n",
    "false\n",
    "\n",
    "// Check if Colonel West is a criminal <br>\n",
    "criminal(west). <br>\n",
    "true\n",
    "\n",
    "// Trace the reasoning <br>\n",
    "trace."
   ]
  },
  {
   "cell_type": "markdown",
   "id": "e22aac45-4890-4973-a2f1-e5efec20a434",
   "metadata": {},
   "source": [
    "### 3. Exercise\n",
    "A *right triangle* is a triangle in which one angle is equal to 90 degrees. <br>\n",
    "It is known that the sum of all angles in any triagle is 180 degrees. <br>\n",
    "Assume that the sum of two angles in a given triangle is 90 degrees.<br>\n",
    "Write a Prolog program that shows that this is the *right triangle*.\n"
   ]
  },
  {
   "cell_type": "code",
   "execution_count": null,
   "id": "ac238e50-a73c-4d3d-a714-7cd69aa07abd",
   "metadata": {},
   "outputs": [],
   "source": []
  }
 ],
 "metadata": {
  "kernelspec": {
   "display_name": "Python 3 (ipykernel)",
   "language": "python",
   "name": "python3"
  },
  "language_info": {
   "codemirror_mode": {
    "name": "ipython",
    "version": 3
   },
   "file_extension": ".py",
   "mimetype": "text/x-python",
   "name": "python",
   "nbconvert_exporter": "python",
   "pygments_lexer": "ipython3",
   "version": "3.11.6"
  }
 },
 "nbformat": 4,
 "nbformat_minor": 5
}
