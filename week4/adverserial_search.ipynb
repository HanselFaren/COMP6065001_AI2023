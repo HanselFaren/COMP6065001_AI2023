{
 "cells": [
  {
   "cell_type": "markdown",
   "id": "9b3db025-0c40-4f14-8e80-cf80b53e72e5",
   "metadata": {},
   "source": [
    "# Adverserial Search and Games"
   ]
  },
  {
   "cell_type": "markdown",
   "id": "0b0e4bdb-816f-4ac0-bee0-35b0e13efdb7",
   "metadata": {},
   "source": [
    "## Outline\n",
    "1. Problem setup\n",
    "2. Minimax algorithm\n",
    "3. Alpha-beta algorithm"
   ]
  },
  {
   "cell_type": "markdown",
   "id": "bf12abda-78dc-4594-b85a-a773b1fbc1e3",
   "metadata": {},
   "source": [
    "## 1. Problem setup"
   ]
  },
  {
   "cell_type": "code",
   "execution_count": 1,
   "id": "cb3660cc-9a35-476f-aa8b-0fd2b7e7731f",
   "metadata": {},
   "outputs": [],
   "source": [
    "## Problem: Tic-Tac-Toe game\n",
    "# 'x' = 1 \n",
    "# 'o' = -1\n",
    "# empty = 0\n",
    "# state: [[0,0,1],[0,-1,0],[0,0,0]]\n",
    "# 'x' starts first\n",
    "# The one who makes a row, a column, \n",
    "# or a diagonal of the same type wins\n",
    "\n",
    "class TicTacToe():\n",
    "    # initialize game with some state\n",
    "    def __init__(self, state=[[0,0,0],[0,0,0],[0,0,0]]):\n",
    "        self.state = state\n",
    "\n",
    "# make a real move: set val to the cell\n",
    "# with coordinates [row, col]\n",
    "def make_move(state, row, col, val):\n",
    "        made_move = False\n",
    "        if (isinstance(row, int)) and (row>=0) and (row<=2):\n",
    "            if (isinstance(col, int)) and (col>=0) and (col<=2):\n",
    "                if state[row][col] == 0:\n",
    "                    if (val == -1) or (val == 1):\n",
    "                        state[row][col] = val\n",
    "                        made_move = True\n",
    "\n",
    "        return made_move\n",
    "\n",
    "# try a move: set val to the cell\n",
    "# with coordinates [row, col]\n",
    "def try_move(state, row, col, val):\n",
    "        if (isinstance(row, int)) and (row>=0) and (row<=2):\n",
    "            if (isinstance(col, int)) and (col>=0) and (col<=2):\n",
    "                if state[row][col] == 0:\n",
    "                    if (val == -1) or (val == 1):\n",
    "                        state[row][col] = val\n",
    "                        \n",
    "        return state\n",
    "\n",
    "# check if the terminal node\n",
    "def terminal_node(state):\n",
    "        # result of the game\n",
    "        # win1 = +10, win2 = -10, tie=0\n",
    "        result = 0\n",
    "        isGameOver = False\n",
    "    \n",
    "        # check if there is an empty cell\n",
    "        emptyCells = False\n",
    "        for i in range(3):\n",
    "            for j in range(3):\n",
    "                if state[i][j] == 0:\n",
    "                    emptyCells = True\n",
    "\n",
    "        # check rows if there is a winner\n",
    "        isWinner = False\n",
    "        for i in range(3):\n",
    "            sum_p1 = 0\n",
    "            sum_p2 = 0\n",
    "            for j in range(3):\n",
    "                if state[i][j] == 1:\n",
    "                    sum_p1 += 1\n",
    "                if state[i][j] == -1:\n",
    "                    sum_p2 += -1\n",
    "            if (sum_p1 == 3) or (sum_p2 == -3):\n",
    "                isWinner = True \n",
    "                if (sum_p1 == 3):\n",
    "                    result = 10\n",
    "                if (sum_p2 == -3):\n",
    "                    result = -10\n",
    "\n",
    "        # check cols if there is a winner\n",
    "        for j in range(3):\n",
    "            sum_p1 = 0\n",
    "            sum_p2 = 0\n",
    "            for i in range(3):\n",
    "                if state[i][j] == 1:\n",
    "                    sum_p1 += 1\n",
    "                if state[i][j] == -1:\n",
    "                    sum_p2 += -1\n",
    "            if (sum_p1 == 3) or (sum_p2 == -3):\n",
    "                isWinner = True \n",
    "                if (sum_p1 == 3):\n",
    "                    result = 10\n",
    "                if (sum_p2 == -3):\n",
    "                    result = -10\n",
    "\n",
    "        # check diagonals if there is a winner\n",
    "        sum_p1 = 0\n",
    "        sum_p2 = 0\n",
    "        for i in range(3):\n",
    "            if state[i][i] == 1:\n",
    "                sum_p1 += 1\n",
    "            if state[i][i] == -1:\n",
    "                sum_p2 += -1\n",
    "        if (sum_p1 == 3) or (sum_p2 == -3):\n",
    "            isWinner = True \n",
    "            if (sum_p1 == 3):\n",
    "               result = 10\n",
    "            if (sum_p2 == -3):\n",
    "               result = -10\n",
    "            \n",
    "        sum_p1 = 0\n",
    "        sum_p2 = 0\n",
    "        for i in range(3):\n",
    "            if state[i][2-i] == 1:\n",
    "                sum_p1 += 1\n",
    "            if state[i][2-i] == -1:\n",
    "                sum_p2 += -1\n",
    "        if (sum_p1 == 3) or (sum_p2 == -3):\n",
    "            isWinner = True \n",
    "            if (sum_p1 == 3):\n",
    "               result = 10\n",
    "            if (sum_p2 == -3):\n",
    "               result = -10\n",
    "\n",
    "        isGameOver = isWinner or not emptyCells\n",
    "        return {\"gameover\": isGameOver, \"result\": result}\n",
    "                \n",
    "# find the children of the given state\n",
    "# returns the coordinates (x,y) of empty cells\n",
    "def expand_state(state):\n",
    "    children = []\n",
    "    for i in range(3):\n",
    "        for j in range(3):\n",
    "            if state[i][j] == 0:\n",
    "                child = [i,j]\n",
    "                children.append(child)\n",
    "    return children"
   ]
  },
  {
   "cell_type": "code",
   "execution_count": 2,
   "id": "98aded6c-d9a8-4e5b-9e51-34c2145908c4",
   "metadata": {},
   "outputs": [
    {
     "name": "stdout",
     "output_type": "stream",
     "text": [
      "gameover result\n",
      "[[0, 0], [1, 1], [2, 0]]\n"
     ]
    }
   ],
   "source": [
    "# setup the game\n",
    "state = [[0, 1, 1],[-1,0,1],[0,1,-1]]\n",
    "x,y = terminal_node(state)\n",
    "print(x,y)\n",
    "ch = expand_state(state)\n",
    "print(ch)"
   ]
  },
  {
   "cell_type": "markdown",
   "id": "26033ac5-937d-43de-9dc9-27c8fb2ecbf6",
   "metadata": {},
   "source": [
    "## 2. Minimax algorithm"
   ]
  },
  {
   "cell_type": "code",
   "execution_count": 3,
   "id": "c2d2ec71-1e8e-4fe1-bb7f-51d6fc9e1c11",
   "metadata": {},
   "outputs": [],
   "source": [
    "import math, copy\n",
    "\n",
    "# minimax algorithm for 2 players\n",
    "count_terminal = 0\n",
    "def minimax(state, depth, isMaxPlayer):\n",
    "    global count_terminal\n",
    "    #print(\"depth: \", state, depth, isMaxPlayer)\n",
    "    if (depth == 0) or terminal_node(state)[\"gameover\"]: \n",
    "       count_terminal += 1 \n",
    "       #print(\"depth: \", state, depth, isMaxPlayer, terminal_node(state)[\"result\"])\n",
    "       return  terminal_node(state)[\"result\"]\n",
    "\n",
    "    if isMaxPlayer: # player maximizes his score\n",
    "        v_max = -math.inf\n",
    "        children = expand_state(state)\n",
    "        for pos in children:\n",
    "            child = copy.deepcopy(state)\n",
    "            child[pos[0]][pos[1]] = 1\n",
    "            v = minimax(child, depth - 1, not isMaxPlayer)\n",
    "            v_max = max(v_max, v)\n",
    "        return v_max\n",
    "    else: # player minimizes his score\n",
    "        v_min = math.inf\n",
    "        children = expand_state(state)\n",
    "        for pos in children:\n",
    "            child = copy.deepcopy(state)\n",
    "            child[pos[0]][pos[1]] = -1\n",
    "            v = minimax(child, depth - 1, not isMaxPlayer)\n",
    "            v_min = min(v_min, v)\n",
    "        return v_min"
   ]
  },
  {
   "cell_type": "code",
   "execution_count": 4,
   "id": "0ba5f58f-fbe4-4963-b705-29e56357e5f0",
   "metadata": {},
   "outputs": [
    {
     "name": "stdout",
     "output_type": "stream",
     "text": [
      "0\n",
      "29592\n"
     ]
    }
   ],
   "source": [
    "count_terminal = 0\n",
    "state = [[0,0,0],[0,0,-1],[0,0,0]]\n",
    "depth = 8\n",
    "isMaxPlayer = True\n",
    "v = minimax(state, depth, isMaxPlayer)\n",
    "print(v)\n",
    "print(count_terminal)"
   ]
  },
  {
   "cell_type": "markdown",
   "id": "482c5212-1cee-415b-a154-95993f21945f",
   "metadata": {},
   "source": [
    "## 3. Alpha-Beta algorithm"
   ]
  },
  {
   "cell_type": "code",
   "execution_count": 5,
   "id": "37a367e7-5cf5-4424-8292-af2038b88c10",
   "metadata": {},
   "outputs": [],
   "source": [
    "import math, copy\n",
    "\n",
    "# minimax algorithm for 2 players\n",
    "count_terminal = 0\n",
    "def alphabeta(state, depth, alpha, beta, isMaxPlayer):\n",
    "    global count_terminal\n",
    "    if (depth == 0) or terminal_node(state)[\"gameover\"]: \n",
    "       count_terminal += 1\n",
    "       return  terminal_node(state)[\"result\"]\n",
    "\n",
    "    if isMaxPlayer: # player maximizes his score\n",
    "        v_max = -math.inf\n",
    "        children = expand_state(state)\n",
    "        for pos in children:\n",
    "            child = copy.deepcopy(state)\n",
    "            child[pos[0]][pos[1]] = 1\n",
    "            v = alphabeta(child, depth - 1, alpha, beta, not isMaxPlayer)\n",
    "            v_max = max(v_max, v)\n",
    "            alpha = max(alpha, v)\n",
    "            if beta <= alpha:\n",
    "                break\n",
    "        return v_max\n",
    "    else: # player minimizes his score\n",
    "        v_min = math.inf\n",
    "        children = expand_state(state)\n",
    "        for pos in children:\n",
    "            child = copy.deepcopy(state)\n",
    "            child[pos[0]][pos[1]] = -1\n",
    "            v = alphabeta(child, depth - 1, alpha, beta, not isMaxPlayer)\n",
    "            v_min = min(v_min, v)\n",
    "            beta = min(beta, v)\n",
    "            if beta <= alpha:\n",
    "                break\n",
    "        return v_min"
   ]
  },
  {
   "cell_type": "code",
   "execution_count": 6,
   "id": "2fb2f459-ec3b-4072-b9f0-edc1c41004c5",
   "metadata": {},
   "outputs": [
    {
     "name": "stdout",
     "output_type": "stream",
     "text": [
      "0\n",
      "1622\n"
     ]
    }
   ],
   "source": [
    "count_terminal = 0\n",
    "state = [[0, 0, 0],[0,0,0],[0,0,-1]]\n",
    "depth = 8\n",
    "alpha = -math.inf\n",
    "beta = math.inf\n",
    "isMaxPlayer = True\n",
    "v = alphabeta(state, depth, alpha, beta, isMaxPlayer)\n",
    "print(v)\n",
    "print(count_terminal)"
   ]
  },
  {
   "cell_type": "code",
   "execution_count": null,
   "id": "650235a0-74f6-4d98-b052-97849d014e5f",
   "metadata": {},
   "outputs": [],
   "source": []
  }
 ],
 "metadata": {
  "kernelspec": {
   "display_name": "Python 3 (ipykernel)",
   "language": "python",
   "name": "python3"
  },
  "language_info": {
   "codemirror_mode": {
    "name": "ipython",
    "version": 3
   },
   "file_extension": ".py",
   "mimetype": "text/x-python",
   "name": "python",
   "nbconvert_exporter": "python",
   "pygments_lexer": "ipython3",
   "version": "3.11.6"
  }
 },
 "nbformat": 4,
 "nbformat_minor": 5
}
